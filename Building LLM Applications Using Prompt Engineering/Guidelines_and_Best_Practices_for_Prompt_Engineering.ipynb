{
  "nbformat": 4,
  "nbformat_minor": 0,
  "metadata": {
    "colab": {
      "provenance": []
    },
    "kernelspec": {
      "name": "python3",
      "display_name": "Python 3"
    },
    "language_info": {
      "name": "python"
    }
  },
  "cells": [
    {
      "cell_type": "markdown",
      "source": [
        "# Guidelines and Best Practices for Prompt Engineering\n",
        "* Notebook by Adam Lang\n",
        "* Date: 2/29/2024\n",
        "* We will review best practices for prompt engineering using the OpenAI chat completions API."
      ],
      "metadata": {
        "id": "C4DpQRhruAJ0"
      }
    },
    {
      "cell_type": "code",
      "execution_count": 1,
      "metadata": {
        "colab": {
          "base_uri": "https://localhost:8080/"
        },
        "id": "BUoWef88t6_v",
        "outputId": "cc31e55b-db56-4c4c-8d0a-53244ce746fd"
      },
      "outputs": [
        {
          "output_type": "stream",
          "name": "stdout",
          "text": [
            "Collecting openai==0.28\n",
            "  Downloading openai-0.28.0-py3-none-any.whl (76 kB)\n",
            "\u001b[?25l     \u001b[90m━━━━━━━━━━━━━━━━━━━━━━━━━━━━━━━━━━━━━━━━\u001b[0m \u001b[32m0.0/76.5 kB\u001b[0m \u001b[31m?\u001b[0m eta \u001b[36m-:--:--\u001b[0m\r\u001b[2K     \u001b[91m━━━━━━━━━━━━━━━━━━━━━━━━━━━━━━━━━━━━━\u001b[0m\u001b[90m╺\u001b[0m\u001b[90m━━\u001b[0m \u001b[32m71.7/76.5 kB\u001b[0m \u001b[31m2.2 MB/s\u001b[0m eta \u001b[36m0:00:01\u001b[0m\r\u001b[2K     \u001b[90m━━━━━━━━━━━━━━━━━━━━━━━━━━━━━━━━━━━━━━━━\u001b[0m \u001b[32m76.5/76.5 kB\u001b[0m \u001b[31m1.7 MB/s\u001b[0m eta \u001b[36m0:00:00\u001b[0m\n",
            "\u001b[?25hRequirement already satisfied: requests>=2.20 in /usr/local/lib/python3.10/dist-packages (from openai==0.28) (2.31.0)\n",
            "Requirement already satisfied: tqdm in /usr/local/lib/python3.10/dist-packages (from openai==0.28) (4.66.2)\n",
            "Requirement already satisfied: aiohttp in /usr/local/lib/python3.10/dist-packages (from openai==0.28) (3.9.3)\n",
            "Requirement already satisfied: charset-normalizer<4,>=2 in /usr/local/lib/python3.10/dist-packages (from requests>=2.20->openai==0.28) (3.3.2)\n",
            "Requirement already satisfied: idna<4,>=2.5 in /usr/local/lib/python3.10/dist-packages (from requests>=2.20->openai==0.28) (3.6)\n",
            "Requirement already satisfied: urllib3<3,>=1.21.1 in /usr/local/lib/python3.10/dist-packages (from requests>=2.20->openai==0.28) (2.0.7)\n",
            "Requirement already satisfied: certifi>=2017.4.17 in /usr/local/lib/python3.10/dist-packages (from requests>=2.20->openai==0.28) (2024.2.2)\n",
            "Requirement already satisfied: aiosignal>=1.1.2 in /usr/local/lib/python3.10/dist-packages (from aiohttp->openai==0.28) (1.3.1)\n",
            "Requirement already satisfied: attrs>=17.3.0 in /usr/local/lib/python3.10/dist-packages (from aiohttp->openai==0.28) (23.2.0)\n",
            "Requirement already satisfied: frozenlist>=1.1.1 in /usr/local/lib/python3.10/dist-packages (from aiohttp->openai==0.28) (1.4.1)\n",
            "Requirement already satisfied: multidict<7.0,>=4.5 in /usr/local/lib/python3.10/dist-packages (from aiohttp->openai==0.28) (6.0.5)\n",
            "Requirement already satisfied: yarl<2.0,>=1.0 in /usr/local/lib/python3.10/dist-packages (from aiohttp->openai==0.28) (1.9.4)\n",
            "Requirement already satisfied: async-timeout<5.0,>=4.0 in /usr/local/lib/python3.10/dist-packages (from aiohttp->openai==0.28) (4.0.3)\n",
            "Installing collected packages: openai\n",
            "Successfully installed openai-0.28.0\n"
          ]
        }
      ],
      "source": [
        "# install openai\n",
        "!pip install openai==0.28"
      ]
    },
    {
      "cell_type": "code",
      "source": [
        "# set up OpenAI key\n",
        "import openai\n",
        "\n",
        "openai.api_key = '<YOUR_OPENAI_KEY>'"
      ],
      "metadata": {
        "id": "juE6UQbRuPi5"
      },
      "execution_count": 2,
      "outputs": []
    },
    {
      "cell_type": "code",
      "source": [
        "# define a function to get a response\n",
        "def get_response(prompt, temperature=0, model=\"gpt-3.5-turbo\"):\n",
        "  messages = [{\"role\":\"user\", \"content\":prompt}]\n",
        "  response = openai.ChatCompletion.create(\n",
        "      model=model,\n",
        "      messages=messages,\n",
        "      temperature=temperature #specify randomness of model output\n",
        "  )\n",
        "  return response.choices[0].message[\"content\"]"
      ],
      "metadata": {
        "id": "zlP85HUFublA"
      },
      "execution_count": 3,
      "outputs": []
    },
    {
      "cell_type": "markdown",
      "source": [
        "# Case Study - Customer Support Function - Categorization and Resolution of Email tickets raised by customers for an online business\n",
        "* Question: How can you use prompts to make the response to a customers problem faster?"
      ],
      "metadata": {
        "id": "qfyQUS2Ju-4m"
      }
    },
    {
      "cell_type": "code",
      "source": [
        "first_customer_support_ticket = '''Dear Support Team,\n",
        "\n",
        "I hope this message finds you well.\n",
        "I'm experiencing difficulty accessing my account on your platform.\n",
        "When I attempt to log in, I receive an error message that states, \"Invalid Credentials.\"\n",
        "I have double checked my username and password multiple times and they are both correct.\n",
        "\n",
        "Important Details:\n",
        "- Username: donaldduck123\n",
        "- Browser: Google Chrome\n",
        "- Operating System: Windows 11\n",
        "\n",
        "I have tried clearing the cache from my browser and resetting my password but the issue remains.\n",
        "This is affecting my ability to use your platform's services and I would really like a prompt resolution.\n",
        "\n",
        "Please let me know if you need any additional info to assist with troubleshooting my issues.\n",
        "\n",
        "Thank you,\n",
        "Donald Duck\n",
        "'''"
      ],
      "metadata": {
        "id": "i_Azusoeu9Ic"
      },
      "execution_count": 5,
      "outputs": []
    },
    {
      "cell_type": "code",
      "source": [
        "second_customer_support_ticket='''\n",
        "Dear Customer Support,\n",
        "\n",
        "I am having an issue accessing certain features on your platform. Please help me.\n",
        "\n",
        "Issue Details:\n",
        "\n",
        "Feature Affected: XYZ\n",
        "Description of issue: When I try to use feature XYZ it times out and shuts down. The issue has been present for about 3 months.\n",
        "Steps taken to resolve: I have tried resetting my pw and un, clearing cache, restarting my device but nothing is working.\n",
        "\n",
        "Browser/Device: I'm using firefox browser.\n",
        "Screenshots: none\n",
        "This feature is crucial for me to conduct business on your platform. I would really appreciate a prompt resolution.\n",
        "\n",
        "Thank you for your help!\n",
        "\n",
        "Best Regards,\n",
        "Mickey J. Mouse\n",
        "email: mickey.j.mouse@mmc.com\n",
        "'''"
      ],
      "metadata": {
        "id": "XVIZapv9wXdE"
      },
      "execution_count": 7,
      "outputs": []
    },
    {
      "cell_type": "markdown",
      "source": [
        "# 1. Write clear and specific instructions\n",
        "\n",
        "### Example 1"
      ],
      "metadata": {
        "id": "jPwo3y_2yIvZ"
      }
    },
    {
      "cell_type": "code",
      "source": [
        "# classify first support ticket\n",
        "user_prompt = f'classify the customer support ticket: {first_customer_support_ticket}'\n",
        "print(get_response(user_prompt))"
      ],
      "metadata": {
        "colab": {
          "base_uri": "https://localhost:8080/"
        },
        "id": "pW2FgRmQyDlI",
        "outputId": "73c81327-8151-4da2-8f0e-31ac81183007"
      },
      "execution_count": 8,
      "outputs": [
        {
          "output_type": "stream",
          "name": "stdout",
          "text": [
            "Technical Issue - Account Login Error\n"
          ]
        }
      ]
    },
    {
      "cell_type": "code",
      "source": [
        "# clasify second suport ticket\n",
        "user_prompt = f'classify the customer support ticket: {second_customer_support_ticket}'\n",
        "print(get_response(user_prompt))"
      ],
      "metadata": {
        "colab": {
          "base_uri": "https://localhost:8080/"
        },
        "id": "gqpQ5S0JyY_O",
        "outputId": "0237aa18-be1e-4323-fbd2-1c91c57ed4bd"
      },
      "execution_count": 9,
      "outputs": [
        {
          "output_type": "stream",
          "name": "stdout",
          "text": [
            "Technical Issue - Feature XYZ not working on Firefox browser\n"
          ]
        }
      ]
    },
    {
      "cell_type": "markdown",
      "source": [
        "summary:\n",
        "* GPT is creating its own classes without us giving any instructions for what a class is."
      ],
      "metadata": {
        "id": "NkVOuXlGy2OQ"
      }
    },
    {
      "cell_type": "markdown",
      "source": [
        "### Now let's try giving a more specific classification"
      ],
      "metadata": {
        "id": "TjQabYdUy_Ws"
      }
    },
    {
      "cell_type": "code",
      "source": [
        "# first customer support ticket\n",
        "user_prompt = f'''classify the customer support tickets into broad categories such as\n",
        "'Technical Issues,' 'Billing Inquiries,' and 'Product Feedback'\n",
        "{first_customer_support_ticket}'''\n",
        "\n",
        "print(get_response(user_prompt))"
      ],
      "metadata": {
        "colab": {
          "base_uri": "https://localhost:8080/"
        },
        "id": "sQYut1pBykMo",
        "outputId": "4cbc7f78-1d23-4fbc-b45f-7fc400ecf3c6"
      },
      "execution_count": 10,
      "outputs": [
        {
          "output_type": "stream",
          "name": "stdout",
          "text": [
            "Category: Technical Issues\n"
          ]
        }
      ]
    },
    {
      "cell_type": "code",
      "source": [
        "# second customer support ticket\n",
        "user_prompt = f'''classify the customer support tickets into broad categories such as\n",
        "'Technical Issues', 'Billing Inquires', and 'Product Feedback.\n",
        "{second_customer_support_ticket}'''\n",
        "\n",
        "print(get_response(user_prompt))"
      ],
      "metadata": {
        "colab": {
          "base_uri": "https://localhost:8080/"
        },
        "id": "Z6pj8W6-zXz9",
        "outputId": "3589d26c-3d50-4c3e-bef0-b5530ebae99e"
      },
      "execution_count": 11,
      "outputs": [
        {
          "output_type": "stream",
          "name": "stdout",
          "text": [
            "Category: Technical Issues\n"
          ]
        }
      ]
    },
    {
      "cell_type": "markdown",
      "source": [
        "### Example 2 - Generating a response to each customer's ticket issue\n"
      ],
      "metadata": {
        "id": "SxRJ96qnzzDM"
      }
    },
    {
      "cell_type": "code",
      "source": [
        "# first customer\n",
        "user_prompt = f'''\n",
        "Generate a response for a customer support ticket related to a user experiencing issues with accessing their account.\n",
        "\n",
        "Customer Support Ticket:{first_customer_support_ticket}\n",
        "'''\n",
        "\n",
        "print(get_response(user_prompt))"
      ],
      "metadata": {
        "colab": {
          "base_uri": "https://localhost:8080/"
        },
        "id": "BTnJKo4LzviC",
        "outputId": "0130064e-51f7-4aca-e2bd-d4361cf27abb"
      },
      "execution_count": 12,
      "outputs": [
        {
          "output_type": "stream",
          "name": "stdout",
          "text": [
            "Dear Donald Duck,\n",
            "\n",
            "Thank you for reaching out to us regarding the issues you are experiencing with accessing your account on our platform. We apologize for any inconvenience this may have caused.\n",
            "\n",
            "We understand the frustration of not being able to log in despite having the correct username and password. We appreciate you providing us with your username, browser, and operating system details, as this will help us in troubleshooting the issue.\n",
            "\n",
            "Since you have already tried clearing the cache from your browser and resetting your password without success, we recommend trying the following steps:\n",
            "1. Ensure that your browser is up to date.\n",
            "2. Try logging in using a different browser or device to see if the issue persists.\n",
            "3. Check if there are any browser extensions or plugins that may be causing conflicts.\n",
            "\n",
            "If the issue continues to persist, please provide us with any additional information that you think may be relevant to help us further investigate the issue. Our team is dedicated to resolving this matter promptly for you.\n",
            "\n",
            "Thank you for your patience and cooperation. We will do our best to assist you in resolving this issue as soon as possible.\n",
            "\n",
            "Best regards,\n",
            "Customer Support Team\n"
          ]
        }
      ]
    },
    {
      "cell_type": "markdown",
      "source": [
        "### Refine the prompt with more specific details"
      ],
      "metadata": {
        "id": "MvDknthH0Ws2"
      }
    },
    {
      "cell_type": "code",
      "source": [
        "user_prompt=f'''Generate a response for a customer support ticket related to a user experiencing issues\n",
        "with accessing their account. Include specific details such as:\n",
        "  1. Steps to troubleshoot the problem,\n",
        "  2. Reassurance about data security,\n",
        "  3. An estimated resolution timeline\n",
        "  Customer Support Ticket: {first_customer_support_ticket}\n",
        "'''\n",
        "\n",
        "print(get_response(user_prompt))"
      ],
      "metadata": {
        "colab": {
          "base_uri": "https://localhost:8080/"
        },
        "id": "T1kDnyol0H6d",
        "outputId": "65ad5f51-2b3d-472f-aa31-10fe1786708e"
      },
      "execution_count": 18,
      "outputs": [
        {
          "output_type": "stream",
          "name": "stdout",
          "text": [
            "Dear Donald Duck,\n",
            "\n",
            "Thank you for reaching out to us regarding the issues you are experiencing with accessing your account on our platform. We understand how frustrating this situation can be and we are here to help you resolve it as quickly as possible.\n",
            "\n",
            "To troubleshoot the problem, we recommend the following steps:\n",
            "1. Please try accessing your account from a different browser or device to see if the issue persists.\n",
            "2. Double-check that your caps lock key is not accidentally turned on while entering your username and password.\n",
            "3. If you have any security software or VPN enabled, try disabling them temporarily to see if they are causing any interference.\n",
            "\n",
            "We want to assure you that the security of your data is our top priority. Our platform uses advanced encryption methods to protect your information and we have strict security measures in place to prevent unauthorized access.\n",
            "\n",
            "In terms of an estimated resolution timeline, our technical team is currently investigating the issue and we aim to have it resolved within the next 24-48 hours. We will keep you updated on the progress and provide you with any necessary information to help you regain access to your account.\n",
            "\n",
            "If you have any further questions or concerns, please do not hesitate to reach out to us. We appreciate your patience and understanding as we work to resolve this issue for you.\n",
            "\n",
            "Thank you for your cooperation.\n",
            "\n",
            "Best regards,\n",
            "Customer Support Team\n"
          ]
        }
      ]
    },
    {
      "cell_type": "markdown",
      "source": [
        "# 2. Use Specific Examples\n",
        "\n",
        "### Tone, Structure, Style"
      ],
      "metadata": {
        "id": "4D5yXG901DB6"
      }
    },
    {
      "cell_type": "code",
      "source": [
        "user_prompt = f'''Compose a customer support response for a ticket\n",
        "where the customer reports a technical issue with a purchased product.\n",
        "\n",
        "Customer Support Ticket:{first_customer_support_ticket}\n",
        "\n",
        "Here is an example for your reference:\n",
        "\n",
        "Dear Donald Duck,\n",
        "\n",
        "Hello! Thank you for getting in touch with us, we are really sorry for the trouble you are having logging\n",
        "into your account. We completely understand how frustrating this can be and we are here to make things right.\n",
        "\n",
        "We noticed that you already tried a few things to fix it and we appreciate your efforts.\n",
        "Could you please give the following steps a try as they might help:\n",
        "\n",
        "1. Clear browser data: try clearing not just the cache but also cookies and history.\n",
        "2. In google chrome, you can find this in the \"settings\" under \"privacy and security\".\n",
        "3. Click \"clear browsing data\" and choose cookies and browsing history.\n",
        "4. Try a differetn browser such as: Microsoft Edge or Mozilla Firefox.\n",
        "5. Disable Browser Extensions: some add ons can cause issues. Temporarily turn off any extensions to see if that helps.\n",
        "If none of these steps work, could you provide the following information:\n",
        "\n",
        "- Are you seeing any error messages other than \"Invalid Credentials\"?\n",
        "- Have you tried logging in from another device, network or VPN?\n",
        "- Can you log in without issue on other platforms or sites?\n",
        "- We are eager to help you and want this sorted out. Sorry again for the hassle this has caused you.\n",
        "Your patience means a lot to us!\n",
        "\n",
        "Let us know how it goes or if you have any further questions.\n",
        "We are here for you and committed to fixing this as fast as we can.\n",
        "\n",
        "Warmest regards,\n",
        "\n",
        "[Your Name]\n",
        "Customer Support Team\n",
        "'''\n",
        "\n",
        "print(get_response(user_prompt))\n"
      ],
      "metadata": {
        "colab": {
          "base_uri": "https://localhost:8080/"
        },
        "id": "jdWdeCbF0vic",
        "outputId": "6b815191-0863-4873-f3ee-166cc223f6af"
      },
      "execution_count": 19,
      "outputs": [
        {
          "output_type": "stream",
          "name": "stdout",
          "text": [
            "\n",
            "[Company Name]\n"
          ]
        }
      ]
    },
    {
      "cell_type": "markdown",
      "source": [
        "# 3. Vary the Prompts and Iterate"
      ],
      "metadata": {
        "id": "E-X4iTnj3g7g"
      }
    },
    {
      "cell_type": "code",
      "source": [
        "user_prompt = f'''Compose a customer support response for a ticket where\n",
        "the customer reports a technical issue with a purchased product.\n",
        "\n",
        "Customer Support Ticket:{first_customer_support_ticket}'''\n",
        "\n",
        "print(get_response(user_prompt))"
      ],
      "metadata": {
        "colab": {
          "base_uri": "https://localhost:8080/"
        },
        "id": "zR49JdhX2usQ",
        "outputId": "28f104b6-8ee2-427b-f68a-3d04155d53be"
      },
      "execution_count": 20,
      "outputs": [
        {
          "output_type": "stream",
          "name": "stdout",
          "text": [
            "Dear Donald Duck,\n",
            "\n",
            "Thank you for reaching out to us regarding the technical issue you are experiencing with accessing your account on our platform. We apologize for any inconvenience this may have caused you.\n",
            "\n",
            "We appreciate you providing us with your username, browser, and operating system details. Our technical team will investigate the issue further to determine the root cause of the \"Invalid Credentials\" error message you are receiving.\n",
            "\n",
            "In the meantime, we recommend trying to access your account using a different browser or device to see if the issue persists. Additionally, please ensure that your internet connection is stable and that there are no firewall or security settings blocking access to our platform.\n",
            "\n",
            "If the issue continues, please let us know and we will work diligently to resolve it as quickly as possible. Thank you for your patience and understanding.\n",
            "\n",
            "Best regards,\n",
            "[Your Name]\n",
            "Customer Support Team\n"
          ]
        }
      ]
    },
    {
      "cell_type": "markdown",
      "source": [
        "### Now change the tone of the prompt"
      ],
      "metadata": {
        "id": "q_S0UJ2e38NN"
      }
    },
    {
      "cell_type": "code",
      "source": [
        "user_prompt = f'''Compose a customer support response for a ticket where\n",
        "the customer reports a technical issue with a purchased product with a more formal and professional tone.\n",
        "\n",
        "Customer Support Ticket: {first_customer_support_ticket}'''\n",
        "\n",
        "print(get_response(user_prompt))"
      ],
      "metadata": {
        "colab": {
          "base_uri": "https://localhost:8080/"
        },
        "id": "TwbW0Rls30rO",
        "outputId": "c778b469-4911-4684-dc91-d8a54850aa70"
      },
      "execution_count": 21,
      "outputs": [
        {
          "output_type": "stream",
          "name": "stdout",
          "text": [
            "Dear Donald Duck,\n",
            "\n",
            "Thank you for reaching out to our support team regarding the technical issue you are experiencing with accessing your account on our platform. We apologize for any inconvenience this may have caused you.\n",
            "\n",
            "We appreciate you providing us with the important details such as your username, browser, and operating system. We will investigate this matter further to identify the root cause of the \"Invalid Credentials\" error message you are encountering.\n",
            "\n",
            "Our technical team will work diligently to resolve this issue promptly. In the meantime, if there are any additional details or steps you have taken to troubleshoot the problem, please feel free to share them with us.\n",
            "\n",
            "We understand the importance of being able to use our platform's services seamlessly and we are committed to ensuring that you have a positive experience with our product.\n",
            "\n",
            "Thank you for your patience and cooperation as we work to address this matter. We will keep you updated on our progress and provide you with a resolution as soon as possible.\n",
            "\n",
            "Best regards,\n",
            "\n",
            "[Your Name]\n",
            "Customer Support Team\n"
          ]
        }
      ]
    },
    {
      "cell_type": "markdown",
      "source": [
        "### Now add a structured approach to the output"
      ],
      "metadata": {
        "id": "JntwM_W64UV7"
      }
    },
    {
      "cell_type": "code",
      "source": [
        "user_prompt= f'''Compose a customer support response for a ticket where\n",
        "the customer reports a technical issue with a purchased product with a more formal and professional tone.\n",
        "Maintain a focus on providing clear instructions while expressing empathy for the inconvenience caused.\n",
        "Use a structured approach and avoid informal language.\n",
        "\n",
        "Customer Support Ticket:{first_customer_support_ticket}'''\n",
        "\n",
        "print(get_response(user_prompt))"
      ],
      "metadata": {
        "colab": {
          "base_uri": "https://localhost:8080/"
        },
        "id": "GHCqi4Uv4MMV",
        "outputId": "c2c466ae-954b-4b49-f6d3-71c62aa0a6d0"
      },
      "execution_count": 22,
      "outputs": [
        {
          "output_type": "stream",
          "name": "stdout",
          "text": [
            "Dear Donald Duck,\n",
            "\n",
            "Thank you for reaching out to our support team regarding the technical issue you are experiencing with accessing your account on our platform. We sincerely apologize for any inconvenience this has caused you.\n",
            "\n",
            "Based on the information you have provided, it seems that you have already taken some troubleshooting steps such as clearing the cache and resetting your password. We appreciate your efforts in trying to resolve the issue on your end.\n",
            "\n",
            "To further assist you, we recommend trying the following steps:\n",
            "1. Ensure that you are entering your username and password correctly, paying close attention to any capitalization or special characters.\n",
            "2. Try accessing your account using a different web browser or device to see if the issue persists.\n",
            "3. If possible, try logging in from a different network to rule out any connectivity issues.\n",
            "\n",
            "If the issue continues to persist after trying these steps, please provide us with the following additional information:\n",
            "- Any error codes or messages you receive when attempting to log in.\n",
            "- Any recent changes or updates you have made to your account or device.\n",
            "\n",
            "Our technical team will investigate the issue further and work towards a prompt resolution for you. We understand the importance of accessing our platform's services and will do our best to assist you in resolving this matter.\n",
            "\n",
            "Thank you for your patience and cooperation. We will keep you updated on the progress of your case.\n",
            "\n",
            "Best regards,\n",
            "\n",
            "[Your Name]\n",
            "Customer Support Team\n"
          ]
        }
      ]
    },
    {
      "cell_type": "markdown",
      "source": [
        "# 4. Use Delimeters\n",
        "* delimits text into smaller chunks for the model to process and structure the context better."
      ],
      "metadata": {
        "id": "QjvpALXx4zy0"
      }
    },
    {
      "cell_type": "code",
      "source": [
        "# create a delmited list\n",
        "customer_support_tickets=['''Dear Support Team,\n",
        "\n",
        "I hope this message finds you well.\n",
        "I'm experiencing difficulties accessing my account on your platform.\n",
        "When I attempt to log in, I receive an error message stating, \"Invalid Credentials.\"\n",
        "I've double-checked my username and password, and they are correct.\n",
        "\n",
        "Details:\n",
        "- Username: DonaldDuck123\n",
        "- Browser: Google Chrome\n",
        "- Operating System: Windows 11\n",
        "\n",
        "I have tried clearing my browser cache and retting the password but the issue persists.\n",
        "This is affecting my ability to use the platform and I would like a quick resolution.\n",
        "\n",
        "Please let me know if you require any additional information.\n",
        "\n",
        "Thank you,\n",
        "Donald J. Duck'''\n",
        ",\n",
        "'''\n",
        "Dear Support Team,\n",
        "I have sent you multiple messages about my technical issues for the last 3 months.\n",
        "Please resolve it promptly.'''\n",
        "]"
      ],
      "metadata": {
        "id": "p2RkT5iX4rQI"
      },
      "execution_count": 23,
      "outputs": []
    },
    {
      "cell_type": "code",
      "source": [
        "# classify prompts\n",
        "user_prompt = '''classify the customer support tickets into broad categories such as 'Technical Issues', 'Billing Inquiries', 'Product Feedback.\n",
        "\n",
        "[Dear Support Team,\n",
        "\n",
        "I hope this message finds you well.\n",
        "I'm experiencing difficulties accessing my account on your platform.\n",
        "When I attempt to log in, I receive an error message stating, \"Invalid Credentials.\"\n",
        "I've double-checked my username and password, and they are correct.\n",
        "\n",
        "Details:\n",
        "- Username: DonaldDuck123\n",
        "- Browser: Google Chrome\n",
        "- Operating System: Windows 11\n",
        "\n",
        "I have tried clearing my browser cache and retting the password but the issue persists.\n",
        "This is affecting my ability to use the platform and I would like a quick resolution.\n",
        "\n",
        "Please let me know if you require any additional information.\n",
        "\n",
        "Thank you,\n",
        "Donald J. Duck\n",
        ",\n",
        "\n",
        "Dear Support Team,\n",
        "I have sent you multiple messages about my technical issues for the last 3 months.\n",
        "Please resolve it promptly.]'''"
      ],
      "metadata": {
        "id": "z0NJsjMs544b"
      },
      "execution_count": 24,
      "outputs": []
    },
    {
      "cell_type": "code",
      "source": [
        "print(get_response(user_prompt))"
      ],
      "metadata": {
        "colab": {
          "base_uri": "https://localhost:8080/"
        },
        "id": "5v4ik_EG6Wj0",
        "outputId": "52be82be-5384-4625-aaee-0945132519dd"
      },
      "execution_count": 25,
      "outputs": [
        {
          "output_type": "stream",
          "name": "stdout",
          "text": [
            "Category: Technical Issues\n",
            "\n",
            "[Dear Support Team,\n",
            "I recently noticed a discrepancy in my billing statement and would like to inquire about the charges.\n",
            "I believe I was overcharged for my subscription and would like clarification on the billing details.\n",
            "Please review my account and provide me with a breakdown of the charges.\n",
            "\n",
            "Details:\n",
            "- Account Number: 123456789\n",
            "- Subscription Plan: Premium\n",
            "- Billing Period: January 2022\n",
            "\n",
            "I would appreciate a prompt response to this matter.\n",
            "\n",
            "Thank you,\n",
            "Jane Smith]\n",
            "\n",
            "Category: Billing Inquiries\n",
            "\n",
            "[Dear Support Team,\n",
            "I have been using your product for a while now and I wanted to provide some feedback on my experience.\n",
            "Overall, I am satisfied with the features and functionality of the product. However, I have noticed a few areas that could be improved.\n",
            "I would like to share my feedback with the product team in hopes of enhancing the user experience.\n",
            "\n",
            "Feedback:\n",
            "- User Interface: Could be more intuitive\n",
            "- Performance: Occasional lag during peak hours\n",
            "- New Features: Request for a feature to be added\n",
            "\n",
            "I hope you will consider my feedback and work towards improving the product.\n",
            "\n",
            "Thank you,\n",
            "John Doe]\n",
            "\n",
            "Category: Product Feedback\n"
          ]
        }
      ]
    },
    {
      "cell_type": "code",
      "source": [
        "# better way to do this\n",
        "user_prompt = '''classify all the customer support tickets within <> into broad categories such as 'Technical Issues',\n",
        "'Billing Inquires', and 'Product Feedback.'\n",
        "\n",
        "<Dear Support Team,\n",
        "\n",
        "I hope this message finds you well.\n",
        "I'm experiencing difficulties accessing my account on your platform.\n",
        "When I attempt to log in, I receive an error message stating, \"Invalid Credentials.\"\n",
        "I've double-checked my username and password, and they are correct.\n",
        "\n",
        "Details:\n",
        "- Username: DonaldDuck123\n",
        "- Browser: Google Chrome\n",
        "- Operating System: Windows 11\n",
        "\n",
        "I have tried clearing my browser cache and retting the password but the issue persists.\n",
        "This is affecting my ability to use the platform and I would like a quick resolution.\n",
        "\n",
        "Please let me know if you require any additional information.\n",
        "\n",
        "Thank you,\n",
        "Donald J. Duck>\n",
        "\n",
        "<Dear Support Team,\n",
        "I have sent you multiple messages about my technical issues for the last 3 months.\n",
        "Please resolve it promptly.>\n",
        "'''\n",
        "\n",
        "print(get_response(user_prompt))"
      ],
      "metadata": {
        "colab": {
          "base_uri": "https://localhost:8080/"
        },
        "id": "3U1kBvLk6bl0",
        "outputId": "7ebcc188-cfdc-4435-fa61-fe9f15bb7579"
      },
      "execution_count": 26,
      "outputs": [
        {
          "output_type": "stream",
          "name": "stdout",
          "text": [
            "Broad categories for the customer support tickets provided could be:\n",
            "\n",
            "1. Technical Issues:\n",
            "- Difficulty accessing account\n",
            "- Error message \"Invalid Credentials\"\n",
            "- Browser and operating system details provided\n",
            "- Clearing browser cache and resetting password did not resolve issue\n",
            "- Ongoing technical issues for the last 3 months\n",
            "\n",
            "It seems like both customer support tickets fall under the category of Technical Issues.\n"
          ]
        }
      ]
    },
    {
      "cell_type": "markdown",
      "source": [
        "### Iterate over multiple tickets"
      ],
      "metadata": {
        "id": "s69RuPps7NAC"
      }
    },
    {
      "cell_type": "code",
      "source": [
        "for customer_support_ticket in customer_support_tickets:\n",
        "\n",
        "  user_prompt = f'''classify the customer support ticket delimited by <> into broad categories\n",
        "  such as Technical Issues, Billing Inquiries, and Product Feedback <{customer_support_ticket}>\n",
        "  '''\n",
        "\n",
        "  print(get_response(user_prompt))"
      ],
      "metadata": {
        "colab": {
          "base_uri": "https://localhost:8080/"
        },
        "id": "QxbmXDoM7CGU",
        "outputId": "914b4295-b9f6-4c07-a99d-70e833d4c7c5"
      },
      "execution_count": 27,
      "outputs": [
        {
          "output_type": "stream",
          "name": "stdout",
          "text": [
            "Technical Issues\n",
            "Technical Issues\n"
          ]
        }
      ]
    },
    {
      "cell_type": "markdown",
      "source": [
        "# 5. Specify Structured Output Formats\n",
        "* Note: this is raw JSON from openai. I will demonstrate this later how to do this more elegantly using pydantic and instructor."
      ],
      "metadata": {
        "id": "WV5mOR9T7rj8"
      }
    },
    {
      "cell_type": "code",
      "source": [
        "user_prompt = f'''\n",
        "Extract JSON information from the customer support ticket.\n",
        "\n",
        "Given the following ticket content:\n",
        "\n",
        "{first_customer_support_ticket}\n",
        "\n",
        "Please provide the JSON representation of essential details such as:\n",
        "- Username\n",
        "- Browser\n",
        "- Operating System\n",
        "\n",
        "Ensure the JSON format includes key-value pairs for each detail.\n",
        "'''\n",
        "\n",
        "print(get_response(user_prompt))\n"
      ],
      "metadata": {
        "colab": {
          "base_uri": "https://localhost:8080/"
        },
        "id": "CoeFTeW57gSs",
        "outputId": "d2414b2c-8f58-4b09-9ef8-a236ada4fcb2"
      },
      "execution_count": 28,
      "outputs": [
        {
          "output_type": "stream",
          "name": "stdout",
          "text": [
            "{\n",
            "  \"Username\": \"donaldduck123\",\n",
            "  \"Browser\": \"Google Chrome\",\n",
            "  \"Operating System\": \"Windows 11\"\n",
            "}\n"
          ]
        }
      ]
    },
    {
      "cell_type": "markdown",
      "source": [
        "# 6. Use Temperature Paramteter\n",
        "* Zero is lowest => defines deterministic output"
      ],
      "metadata": {
        "id": "fQ0snP4h8RHU"
      }
    },
    {
      "cell_type": "code",
      "source": [
        "# we can define temperature in the function we wrote above\n",
        "# we will use 0 which is deterministic\n",
        "user_prompt = \"Generate 10 brand names for breakfast cereal in the USA.\"\n",
        "print(get_response(user_prompt,0))"
      ],
      "metadata": {
        "colab": {
          "base_uri": "https://localhost:8080/"
        },
        "id": "1Pn3sUUd8Itl",
        "outputId": "160cc9ff-0d07-4edc-e5b0-ab4a03ed826d"
      },
      "execution_count": 29,
      "outputs": [
        {
          "output_type": "stream",
          "name": "stdout",
          "text": [
            "1. Crunchy O's\n",
            "2. Morning Bliss\n",
            "3. Golden Grains\n",
            "4. Sunrise Crunch\n",
            "5. Berry Blast\n",
            "6. Cinnamon Swirls\n",
            "7. Honey Nut Delight\n",
            "8. Frosted Flakes\n",
            "9. Oatmeal Crunch\n",
            "10. Maple Morning\n"
          ]
        }
      ]
    },
    {
      "cell_type": "code",
      "source": [
        "# we will use 0 which is deterministic\n",
        "user_prompt = \"Generate 10 brand names for breakfast cereal in the USA.\"\n",
        "print(get_response(user_prompt,0))"
      ],
      "metadata": {
        "colab": {
          "base_uri": "https://localhost:8080/"
        },
        "id": "b8iL_Rn884Km",
        "outputId": "0dc610e2-f56e-425a-b2e8-0cd45de57548"
      },
      "execution_count": 30,
      "outputs": [
        {
          "output_type": "stream",
          "name": "stdout",
          "text": [
            "1. Crunchy O's\n",
            "2. Morning Bliss\n",
            "3. Golden Grain Crunch\n",
            "4. Sunrise Crunch\n",
            "5. Berry Blast Cereal\n",
            "6. Cinnamon Swirl Crunch\n",
            "7. Honey Nut Crunch\n",
            "8. Oatmeal Delight\n",
            "9. Maple Crunch Cereal\n",
            "10. Fruit Medley Crunch\n"
          ]
        }
      ]
    },
    {
      "cell_type": "markdown",
      "source": [
        "summary:\n",
        "* We can see the output is virtually the same.\n",
        "* This would be similar to setting a seed in numpy or pytorch or keras so the results are reproducible and less random."
      ],
      "metadata": {
        "id": "gNs8jwgx9DpX"
      }
    },
    {
      "cell_type": "markdown",
      "source": [
        "### High Temperature results in probabilistic outputs"
      ],
      "metadata": {
        "id": "UE5HZBl19P6l"
      }
    },
    {
      "cell_type": "code",
      "source": [
        "# we will use 0 which is deterministic\n",
        "user_prompt = \"Generate 10 brand names for breakfast cereal in the USA.\"\n",
        "print(get_response(user_prompt,1))"
      ],
      "metadata": {
        "colab": {
          "base_uri": "https://localhost:8080/"
        },
        "id": "cpTKWHjp9A0m",
        "outputId": "4cf31831-1c56-48ae-c6b8-60740e203b2c"
      },
      "execution_count": 31,
      "outputs": [
        {
          "output_type": "stream",
          "name": "stdout",
          "text": [
            "1. Crunchy Morning\n",
            "2. Rise and Shine Crunch\n",
            "3. Cerealicious\n",
            "4. Breakfast Bliss\n",
            "5. Morning Munch\n",
            "6. Sunny Start Cereal\n",
            "7. Flaky Delight\n",
            "8. Breakfast Bites\n",
            "9. Golden Grain Crunch\n",
            "10. Nutty Crunchies\n"
          ]
        }
      ]
    },
    {
      "cell_type": "code",
      "source": [
        "# we will use 0 which is deterministic\n",
        "user_prompt = \"Generate 10 brand names for breakfast cereal in the USA.\"\n",
        "print(get_response(user_prompt,1))"
      ],
      "metadata": {
        "colab": {
          "base_uri": "https://localhost:8080/"
        },
        "id": "6tQ0bwlr9WM4",
        "outputId": "e11c3020-5d46-45b1-d923-fafd11e53ef5"
      },
      "execution_count": 33,
      "outputs": [
        {
          "output_type": "stream",
          "name": "stdout",
          "text": [
            "1. Morning Crunchies\n",
            "2. SunRise Cereal\n",
            "3. GoodMorn Flakes\n",
            "4. Breakfast Bliss\n",
            "5. Cereal Central\n",
            "6. Rise & Shine Cereal Co.\n",
            "7. American Mornings\n",
            "8. Breakfast Bites\n",
            "9. Cereal Heaven\n",
            "10. Early Eats\n"
          ]
        }
      ]
    },
    {
      "cell_type": "markdown",
      "source": [
        "summary: we can see the output is not the same for both using a temperature of 1 which is significantly more random."
      ],
      "metadata": {
        "id": "rVslwPx39fxK"
      }
    },
    {
      "cell_type": "code",
      "source": [
        "# this can also be seen with the customer support tickets\n",
        "user_prompt = f'''Compose a customer support response for a ticket where\n",
        "the customer reports a tech issue with a purchased product.\n",
        "\n",
        "Customer Support Ticket:{first_customer_support_ticket}'''\n",
        "\n",
        "print(get_response(user_prompt,0))"
      ],
      "metadata": {
        "colab": {
          "base_uri": "https://localhost:8080/"
        },
        "id": "xoivyQ0E9ZBE",
        "outputId": "987a83c8-8b16-4fcd-ae1c-61f488978a64"
      },
      "execution_count": 34,
      "outputs": [
        {
          "output_type": "stream",
          "name": "stdout",
          "text": [
            "Dear Donald Duck,\n",
            "\n",
            "Thank you for reaching out to us regarding the difficulty you are experiencing with accessing your account on our platform. We apologize for any inconvenience this may have caused you.\n",
            "\n",
            "We understand the frustration of encountering an \"Invalid Credentials\" error message despite inputting the correct username and password. We appreciate you providing us with your username, browser, and operating system details, as this will help us in troubleshooting the issue.\n",
            "\n",
            "To further assist you, we recommend trying the following steps:\n",
            "1. Clearing the cache and cookies from your browser again.\n",
            "2. Attempting to log in using a different browser or device to see if the issue persists.\n",
            "3. Resetting your password once more and ensuring that it meets our platform's password requirements.\n",
            "\n",
            "If the issue continues to persist after trying these steps, please provide us with any additional information that you think may be relevant to resolving the issue. This could include any recent changes to your account or any error messages that you encounter during the troubleshooting process.\n",
            "\n",
            "Our team is dedicated to resolving this issue for you as quickly as possible. We appreciate your patience and understanding as we work towards a resolution.\n",
            "\n",
            "Thank you for bringing this to our attention, and we look forward to assisting you further.\n",
            "\n",
            "Best regards,\n",
            "[Your Name]\n",
            "Customer Support Team\n"
          ]
        }
      ]
    },
    {
      "cell_type": "code",
      "source": [
        "user_prompt = f'''Compose a customer support response for a ticket where\n",
        "the customer reports a tech issue with a purchased product.\n",
        "\n",
        "Customer Support Ticket:{first_customer_support_ticket}'''\n",
        "\n",
        "print(get_response(user_prompt,1))"
      ],
      "metadata": {
        "colab": {
          "base_uri": "https://localhost:8080/"
        },
        "id": "f1Bg5V18967d",
        "outputId": "43bc0bf3-010f-41e3-c988-c9bbda967003"
      },
      "execution_count": 35,
      "outputs": [
        {
          "output_type": "stream",
          "name": "stdout",
          "text": [
            "Dear Donald Duck,\n",
            "\n",
            "Thank you for reaching out to our support team regarding the issue you are experiencing with accessing your account on our platform. We apologize for any inconvenience this has caused you.\n",
            "\n",
            "We understand how important it is for you to have seamless access to our services, and we appreciate you providing us with the necessary details to assist with troubleshooting.\n",
            "\n",
            "Our technical team will investigate the error message you are receiving and work towards resolving the issue as soon as possible. In the meantime, we suggest trying to access your account from a different browser or device to see if the problem persists.\n",
            "\n",
            "If you have any additional information or questions, please do not hesitate to reach out to us. We are here to help and ensure that you have a positive experience using our platform.\n",
            "\n",
            "Thank you for your patience and understanding. We will update you on the progress of resolving your issue.\n",
            "\n",
            "Best regards,\n",
            "\n",
            "[Your Name]\n",
            "Customer Support Team\n"
          ]
        }
      ]
    },
    {
      "cell_type": "markdown",
      "source": [
        "Summary:\n",
        "1. Write clear and specific instructions.\n",
        "2. Use specific examples.\n",
        "3. Vary prompts and iterate.\n",
        "4. Use delimeters.\n",
        "5. Specify structured output formats.\n",
        "6. Use Temperature Parameter as well as other params."
      ],
      "metadata": {
        "id": "Y8WLZ6xL-Dgx"
      }
    },
    {
      "cell_type": "code",
      "source": [],
      "metadata": {
        "id": "ljzTZ09z9_Gn"
      },
      "execution_count": null,
      "outputs": []
    }
  ]
}