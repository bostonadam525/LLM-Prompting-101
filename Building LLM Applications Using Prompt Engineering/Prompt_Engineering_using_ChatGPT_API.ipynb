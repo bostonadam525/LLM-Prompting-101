{
  "nbformat": 4,
  "nbformat_minor": 0,
  "metadata": {
    "colab": {
      "provenance": []
    },
    "kernelspec": {
      "name": "python3",
      "display_name": "Python 3"
    },
    "language_info": {
      "name": "python"
    }
  },
  "cells": [
    {
      "cell_type": "markdown",
      "source": [
        "# Prompt Engineering using ChatGPT API\n",
        "* notebook by Adam Lang\n",
        "* Date: 2/29/2024"
      ],
      "metadata": {
        "id": "iFBYsFmx-sTR"
      }
    },
    {
      "cell_type": "markdown",
      "source": [
        "## Set up system"
      ],
      "metadata": {
        "id": "Tceo22M2-0Rf"
      }
    },
    {
      "cell_type": "code",
      "execution_count": 1,
      "metadata": {
        "colab": {
          "base_uri": "https://localhost:8080/"
        },
        "id": "Cg87gHE9-oDF",
        "outputId": "c0964ec4-8f9b-4cb6-f93f-214471dd4306"
      },
      "outputs": [
        {
          "output_type": "stream",
          "name": "stdout",
          "text": [
            "Collecting openai==0.28\n",
            "  Downloading openai-0.28.0-py3-none-any.whl (76 kB)\n",
            "\u001b[?25l     \u001b[90m━━━━━━━━━━━━━━━━━━━━━━━━━━━━━━━━━━━━━━━━\u001b[0m \u001b[32m0.0/76.5 kB\u001b[0m \u001b[31m?\u001b[0m eta \u001b[36m-:--:--\u001b[0m\r\u001b[2K     \u001b[91m━━━━━━━━━━━━━━━━━━━━━━━━━━━━━━━━━━━━━\u001b[0m\u001b[90m╺\u001b[0m\u001b[90m━━\u001b[0m \u001b[32m71.7/76.5 kB\u001b[0m \u001b[31m1.9 MB/s\u001b[0m eta \u001b[36m0:00:01\u001b[0m\r\u001b[2K     \u001b[90m━━━━━━━━━━━━━━━━━━━━━━━━━━━━━━━━━━━━━━━━\u001b[0m \u001b[32m76.5/76.5 kB\u001b[0m \u001b[31m1.6 MB/s\u001b[0m eta \u001b[36m0:00:00\u001b[0m\n",
            "\u001b[?25hRequirement already satisfied: requests>=2.20 in /usr/local/lib/python3.10/dist-packages (from openai==0.28) (2.31.0)\n",
            "Requirement already satisfied: tqdm in /usr/local/lib/python3.10/dist-packages (from openai==0.28) (4.66.2)\n",
            "Requirement already satisfied: aiohttp in /usr/local/lib/python3.10/dist-packages (from openai==0.28) (3.9.3)\n",
            "Requirement already satisfied: charset-normalizer<4,>=2 in /usr/local/lib/python3.10/dist-packages (from requests>=2.20->openai==0.28) (3.3.2)\n",
            "Requirement already satisfied: idna<4,>=2.5 in /usr/local/lib/python3.10/dist-packages (from requests>=2.20->openai==0.28) (3.6)\n",
            "Requirement already satisfied: urllib3<3,>=1.21.1 in /usr/local/lib/python3.10/dist-packages (from requests>=2.20->openai==0.28) (2.0.7)\n",
            "Requirement already satisfied: certifi>=2017.4.17 in /usr/local/lib/python3.10/dist-packages (from requests>=2.20->openai==0.28) (2024.2.2)\n",
            "Requirement already satisfied: aiosignal>=1.1.2 in /usr/local/lib/python3.10/dist-packages (from aiohttp->openai==0.28) (1.3.1)\n",
            "Requirement already satisfied: attrs>=17.3.0 in /usr/local/lib/python3.10/dist-packages (from aiohttp->openai==0.28) (23.2.0)\n",
            "Requirement already satisfied: frozenlist>=1.1.1 in /usr/local/lib/python3.10/dist-packages (from aiohttp->openai==0.28) (1.4.1)\n",
            "Requirement already satisfied: multidict<7.0,>=4.5 in /usr/local/lib/python3.10/dist-packages (from aiohttp->openai==0.28) (6.0.5)\n",
            "Requirement already satisfied: yarl<2.0,>=1.0 in /usr/local/lib/python3.10/dist-packages (from aiohttp->openai==0.28) (1.9.4)\n",
            "Requirement already satisfied: async-timeout<5.0,>=4.0 in /usr/local/lib/python3.10/dist-packages (from aiohttp->openai==0.28) (4.0.3)\n",
            "Installing collected packages: openai\n",
            "Successfully installed openai-0.28.0\n"
          ]
        }
      ],
      "source": [
        "# install openai\n",
        "!pip install openai==0.28"
      ]
    },
    {
      "cell_type": "code",
      "source": [
        "# import openai and your key\n",
        "\n",
        "import openai\n",
        "\n",
        "openai.api_key = '<YOUR_OPENAI_KEY>'"
      ],
      "metadata": {
        "id": "zdN0eDNt-44r"
      },
      "execution_count": 2,
      "outputs": []
    },
    {
      "cell_type": "markdown",
      "source": [
        "# Prompt Engineering Process with API"
      ],
      "metadata": {
        "id": "0tSTfT_d_gBl"
      }
    },
    {
      "cell_type": "code",
      "source": [
        "# basic structure\n",
        "\n",
        "response = openai.ChatCompletion.create(\n",
        "    model=''\n",
        "    messages=[{}]\n",
        ")"
      ],
      "metadata": {
        "id": "Suet-Zvb_Gku"
      },
      "execution_count": null,
      "outputs": []
    },
    {
      "cell_type": "markdown",
      "source": [
        "### Examples of openai models to use:\n",
        "* gpt-3.5-turbo\n",
        "* gpt-3.5-turbo-16k\n",
        "* gpt-4\n",
        "* gpt-4-32k"
      ],
      "metadata": {
        "id": "HPhM9ix5_u-8"
      }
    },
    {
      "cell_type": "markdown",
      "source": [
        "### Pick a model to use"
      ],
      "metadata": {
        "id": "-dGUwv38_5Xl"
      }
    },
    {
      "cell_type": "code",
      "source": [
        "model = 'gpt-3.5-turbo'"
      ],
      "metadata": {
        "id": "F1GwSWjd_4q9"
      },
      "execution_count": 3,
      "outputs": []
    },
    {
      "cell_type": "markdown",
      "source": [
        "### Each message to openai has 2 properties:\n",
        "1. Role\n",
        "    a. `Role` can take 1 of 3 values: `system`, `user`, or `assistant`\n",
        "2. Content\n",
        "    a. 'Content` contains the text of the message from the `Role`.\n",
        "\n"
      ],
      "metadata": {
        "id": "4olSMOflADiC"
      }
    },
    {
      "cell_type": "markdown",
      "source": [
        "### Different Roles\n",
        "* User role defines the input task/query provided by the user."
      ],
      "metadata": {
        "id": "oSor_yQ_AfTX"
      }
    },
    {
      "cell_type": "code",
      "source": [
        "# example message\n",
        "messages = [{\n",
        "    'role':'user', 'content':'tell me a joke about data science'\n",
        "}]\n",
        "\n",
        "# example response\n",
        "response = openai.ChatCompletion.create(\n",
        "    model='gpt-3.5-turbo', messages=messages\n",
        ")\n",
        "\n",
        "print(response)"
      ],
      "metadata": {
        "colab": {
          "base_uri": "https://localhost:8080/"
        },
        "id": "dOgkzsvL__g4",
        "outputId": "01a0fa36-77aa-46a4-e492-a2ed15ef50f4"
      },
      "execution_count": 7,
      "outputs": [
        {
          "output_type": "stream",
          "name": "stdout",
          "text": [
            "{\n",
            "  \"id\": \"chatcmpl-8xezHT0kRQF6Z2TOf7IEY3eFL0PM3\",\n",
            "  \"object\": \"chat.completion\",\n",
            "  \"created\": 1709229599,\n",
            "  \"model\": \"gpt-3.5-turbo-0125\",\n",
            "  \"choices\": [\n",
            "    {\n",
            "      \"index\": 0,\n",
            "      \"message\": {\n",
            "        \"role\": \"assistant\",\n",
            "        \"content\": \"Why did the data scientist break up with their significant other? Because they couldn't handle the data overload in their relationship!\"\n",
            "      },\n",
            "      \"logprobs\": null,\n",
            "      \"finish_reason\": \"stop\"\n",
            "    }\n",
            "  ],\n",
            "  \"usage\": {\n",
            "    \"prompt_tokens\": 14,\n",
            "    \"completion_tokens\": 24,\n",
            "    \"total_tokens\": 38\n",
            "  },\n",
            "  \"system_fingerprint\": \"fp_86156a94a0\"\n",
            "}\n"
          ]
        }
      ]
    },
    {
      "cell_type": "markdown",
      "source": [
        "summary:\n",
        "* printing the response alone gives use a JSON structured output with multiple variables.\n",
        "* We can see the usage of tokens so we can estimate the cost we incur with each API call."
      ],
      "metadata": {
        "id": "W9uQZMRRBvTF"
      }
    },
    {
      "cell_type": "code",
      "source": [
        "# print out the full joke without JSON structure\n",
        "print(response.choices[0].message[\"content\"])"
      ],
      "metadata": {
        "colab": {
          "base_uri": "https://localhost:8080/"
        },
        "id": "Gy13bASdBHBv",
        "outputId": "fc0f11b2-70fb-4a87-d7fb-9028f7fb9784"
      },
      "execution_count": 8,
      "outputs": [
        {
          "output_type": "stream",
          "name": "stdout",
          "text": [
            "Why did the data scientist break up with their significant other? Because they couldn't handle the data overload in their relationship!\n"
          ]
        }
      ]
    },
    {
      "cell_type": "markdown",
      "source": [
        "## Using a system level instruction to guide the Gen AI model's behavior through the conversation\n",
        "* We will create a message using 2 roles now:\n",
        "1. System\n",
        "2. User"
      ],
      "metadata": {
        "id": "EXatlWHwCY-0"
      }
    },
    {
      "cell_type": "code",
      "source": [
        "messages = [{'role':'system', 'content': 'You are an assistant that speaks like a Boston native.'},\n",
        "            {'role':'user',\n",
        "             'content':'tell me a joke about the city of Boston in a boston accent.'}]"
      ],
      "metadata": {
        "id": "JiGyc_AtCSsf"
      },
      "execution_count": 9,
      "outputs": []
    },
    {
      "cell_type": "code",
      "source": [
        "# response\n",
        "response = openai.ChatCompletion.create(model='gpt-3.5-turbo', messages=messages)"
      ],
      "metadata": {
        "id": "L3OWNkNXC7S7"
      },
      "execution_count": 10,
      "outputs": []
    },
    {
      "cell_type": "code",
      "source": [
        "# print output\n",
        "print(response.choices[0].message[\"content\"])"
      ],
      "metadata": {
        "colab": {
          "base_uri": "https://localhost:8080/"
        },
        "id": "4kZwXwSQDCJL",
        "outputId": "210dc3c8-7354-46ef-bf68-1de06dc6e423"
      },
      "execution_count": 11,
      "outputs": [
        {
          "output_type": "stream",
          "name": "stdout",
          "text": [
            "Why did the baked beans go to the tea party in Boston? Because they heard Sam Adams was gonna be there and they wanted to be his \"baked\" beans!\n"
          ]
        }
      ]
    },
    {
      "cell_type": "code",
      "source": [],
      "metadata": {
        "id": "wqqJIMnFDN7N"
      },
      "execution_count": null,
      "outputs": []
    },
    {
      "cell_type": "markdown",
      "source": [
        "# Lets now define a function that takes in an input prompt and returns a response"
      ],
      "metadata": {
        "id": "ughcYD8eDWgS"
      }
    },
    {
      "cell_type": "code",
      "source": [
        "# prompt function\n",
        "def get_response(prompt, model='gpt-3.5-turbo'):\n",
        "  messages = [{'role':'user','content':prompt}]\n",
        "  response = openai.ChatCompletion.create(\n",
        "      model=model,\n",
        "      messages=messages\n",
        "  )\n",
        "  return response.choices[0].message[\"content\"]"
      ],
      "metadata": {
        "id": "D7FkoO2oDbmF"
      },
      "execution_count": 14,
      "outputs": []
    },
    {
      "cell_type": "code",
      "source": [
        "# prompt experiment with function\n",
        "prompt = \"Write a blog post about pytorch\"\n",
        "print(get_response(prompt))"
      ],
      "metadata": {
        "colab": {
          "base_uri": "https://localhost:8080/"
        },
        "id": "gU5HGsXpENH0",
        "outputId": "e4f82835-ec35-4b04-fab2-9ca8e813c325"
      },
      "execution_count": 15,
      "outputs": [
        {
          "output_type": "stream",
          "name": "stdout",
          "text": [
            "PyTorch is an open-source machine learning library that has been gaining a lot of attention in the deep learning community. Developed by Facebook's AI Research lab, PyTorch is known for its flexibility and ease of use, making it a popular choice for researchers and developers alike.\n",
            "\n",
            "One of the key features that sets PyTorch apart from other deep learning frameworks is its dynamic computational graph. Unlike TensorFlow, which uses a static graph, PyTorch allows for the creation of dynamic computational graphs, which makes it easier to work with variable-length inputs and outputs. This flexibility can be especially useful for tasks such as natural language processing, where the length of input sequences can vary.\n",
            "\n",
            "Another advantage of PyTorch is its strong integration with Python, making it easy to leverage the power of the Python ecosystem for tasks such as data manipulation and visualization. PyTorch also includes a comprehensive set of tools for building and training neural networks, including a wide range of pre-built modules for commonly used layers and activation functions.\n",
            "\n",
            "In addition to its ease of use, PyTorch also provides strong support for deployment on a variety of platforms, including CPUs, GPUs, and even mobile devices. This flexibility makes it an attractive option for a wide range of applications, from research to production.\n",
            "\n",
            "Overall, PyTorch is a powerful and versatile machine learning library that continues to grow in popularity within the deep learning community. Whether you are a researcher looking to experiment with new models or a developer looking to build production-ready applications, PyTorch provides the tools and flexibility needed to get the job done. If you haven't already, I highly recommend checking out PyTorch and seeing what it can do for your projects.\n"
          ]
        }
      ]
    },
    {
      "cell_type": "code",
      "source": [
        "# another prompt experiment with function\n",
        "prompt = \"Write a blog post about pytorch, limit this to 200 words.\"\n",
        "print(get_response(prompt))"
      ],
      "metadata": {
        "colab": {
          "base_uri": "https://localhost:8080/"
        },
        "id": "tYlHAGqREWop",
        "outputId": "80f45194-8f61-4f57-f3c3-22cca962fa7e"
      },
      "execution_count": 16,
      "outputs": [
        {
          "output_type": "stream",
          "name": "stdout",
          "text": [
            "PyTorch has quickly become a popular open-source machine learning library in the field of artificial intelligence and deep learning. Developed by Facebook's artificial intelligence research group, PyTorch provides a flexible framework for building and training sophisticated neural networks.\n",
            "\n",
            "One of the key advantages of PyTorch is its dynamic computational graph, which allows for easier debugging and model experimentation. This dynamic approach also makes it easier to work with variable input sizes and shapes, giving researchers more flexibility in their model designs.\n",
            "\n",
            "In addition, PyTorch offers a simple and intuitive API, making it easier for developers to quickly prototype and implement their deep learning models. Its eager execution model also allows for fast iteration and experimentation, speeding up the development process.\n",
            "\n",
            "Overall, PyTorch is a powerful and user-friendly tool for anyone looking to delve into the world of deep learning. Its flexibility, ease of use, and robust capabilities make it a top choice for researchers and developers alike.\n"
          ]
        }
      ]
    },
    {
      "cell_type": "code",
      "source": [
        "# prompt experiment with function - simplify\n",
        "prompt = \"Write a blog post about pytorch in a 5th grade level of understanding, limit this to 500 words.\"\n",
        "print(get_response(prompt))"
      ],
      "metadata": {
        "colab": {
          "base_uri": "https://localhost:8080/"
        },
        "id": "QjGhWR2rEntL",
        "outputId": "a174c92a-1558-4651-967c-c4908c245c83"
      },
      "execution_count": 17,
      "outputs": [
        {
          "output_type": "stream",
          "name": "stdout",
          "text": [
            "Hey there, 5th graders! Today, we're going to talk about PyTorch, which is a super cool tool that can help us with all kinds of neat projects.\n",
            "\n",
            "First things first, PyTorch is a software library that helps us work with something called artificial intelligence, or AI for short. AI is like having a computer that can learn things and make decisions on its own, kind of like how our brains work. PyTorch makes it easier for us to build and train AI models so we can use them for things like recognizing pictures, playing games, or even driving cars.\n",
            "\n",
            "One cool thing about PyTorch is that it uses something called tensors to do all its fancy calculations. Tensors are just a fancy word for a bunch of numbers arranged in a grid, kind of like a spreadsheet. PyTorch can do math with these tensors really quickly, which helps it learn and make decisions faster.\n",
            "\n",
            "Another awesome thing about PyTorch is that it's really flexible and easy to use. We can write code in PyTorch that tells our AI model what to do, like how to recognize a cat in a picture or how to play a game. And if we want to try something new, we can easily change our code to see how our AI model behaves differently.\n",
            "\n",
            "PyTorch is also great for learning because it has lots of resources available. There are tutorials, videos, and even a whole community of people who can help us if we get stuck. This makes it really fun and exciting to experiment and see what we can create with PyTorch.\n",
            "\n",
            "But wait, there's more! PyTorch is also used by lots of companies and researchers around the world. They use PyTorch to build all kinds of cool things like self-driving cars, medical tools, and even robots. So by learning about PyTorch now, we're getting a head start on some really important and exciting technology.\n",
            "\n",
            "In conclusion, PyTorch is a powerful tool that helps us work with AI in a fun and easy way. It uses tensors to do math quickly, it's flexible and easy to use, and it has lots of resources available to help us learn. Plus, it's used by lots of important companies and researchers, so we're learning some really cool stuff by using PyTorch.\n",
            "\n",
            "So next time you see something amazing like a self-driving car or a robot, remember that PyTorch might have had a little something to do with it. And who knows, maybe one day you'll be the one using PyTorch to create something incredible of your own!\n"
          ]
        }
      ]
    },
    {
      "cell_type": "code",
      "source": [
        "# prompt experiment with function - simplify and give multi-step directions\n",
        "prompt = '''Write a blog post about PyTorch for someone who is beginner level in Data Science.\n",
        "            It should include an introduction,\n",
        "            learning objectives,\n",
        "            table of contents,\n",
        "            a basic introduction to what is pytorch and when we should use it,\n",
        "            a simple conclusion.\n",
        "            Limit the blog post to no more than 500 words.'''\n",
        "\n",
        "\n",
        "\n",
        "print(get_response(prompt))"
      ],
      "metadata": {
        "colab": {
          "base_uri": "https://localhost:8080/"
        },
        "id": "Z6D2qLQ0EzZf",
        "outputId": "90dd15c7-1554-457c-9a94-4bf7c154d4ca"
      },
      "execution_count": 18,
      "outputs": [
        {
          "output_type": "stream",
          "name": "stdout",
          "text": [
            "Introduction:\n",
            "Welcome to our beginner's guide to PyTorch in Data Science! In this blog post, we will provide an introduction to PyTorch, discuss its applications, and outline learning objectives for those who are new to the field of data science.\n",
            "\n",
            "Learning Objectives:\n",
            "1. Understand the basics of PyTorch and its significance in the world of data science.\n",
            "2. Learn when to use PyTorch for different data science tasks.\n",
            "3. Gain knowledge on how to get started with PyTorch for building machine learning models.\n",
            "\n",
            "Table of Contents:\n",
            "1. Introduction to PyTorch\n",
            "2. When to use PyTorch\n",
            "3. Getting started with PyTorch\n",
            "4. Conclusion\n",
            "\n",
            "Introduction to PyTorch:\n",
            "PyTorch is an open-source machine learning library developed by Facebook's AI Research lab. It is widely used for building deep learning models and is known for its flexibility and ease of use. PyTorch provides a dynamic computation graph, making it easier to debug and experiment with models. It is popular among data scientists and researchers for its simplicity and efficiency.\n",
            "\n",
            "When to use PyTorch:\n",
            "PyTorch is ideal for various data science tasks such as image classification, natural language processing, and reinforcement learning. It is particularly useful for research and prototyping, as well as for projects that require complex neural network architectures. PyTorch's dynamic graph structure allows for easy experimentation and model customization, making it a preferred choice for many machine learning practitioners.\n",
            "\n",
            "Getting started with PyTorch:\n",
            "To get started with PyTorch, you can install the library using pip and start exploring its features and functionalities. PyTorch provides a rich set of tools for building and training deep learning models, including modules for data loading, model building, and optimization. You can follow tutorials and documentation available online to learn how to build your first neural network using PyTorch.\n",
            "\n",
            "Conclusion:\n",
            "In conclusion, PyTorch is a powerful tool for data scientists and researchers who are looking to build deep learning models. Its flexibility, ease of use, and dynamic computation graph make it a popular choice for various machine learning tasks. By understanding the basics of PyTorch and knowing when to use it, beginners in the field of data science can start leveraging the library to build advanced machine learning models and explore the world of deep learning.\n"
          ]
        }
      ]
    },
    {
      "cell_type": "code",
      "source": [
        "# prompt experiment with function - simplify and give multi-step directions - add information related to SEO search\n",
        "prompt = '''Write an SEO search engine blog post about PyTorch for someone who is beginner level in Data Science.\n",
        "            It should include a title,\n",
        "            introduction,\n",
        "            learning objectives,\n",
        "            table of contents,\n",
        "            a basic introduction to what is pytorch and when we should use it,\n",
        "            a simple conclusion.\n",
        "            Limit the blog post to no more than 500 words.'''\n",
        "\n",
        "\n",
        "\n",
        "print(get_response(prompt))"
      ],
      "metadata": {
        "colab": {
          "base_uri": "https://localhost:8080/"
        },
        "id": "OIvIkzCsFqU-",
        "outputId": "81f5145f-050f-4cc1-f115-d0e8e5bfcaa4"
      },
      "execution_count": 19,
      "outputs": [
        {
          "output_type": "stream",
          "name": "stdout",
          "text": [
            "Title: A Beginner's Guide to PyTorch for Data Science\n",
            "\n",
            "Introduction:\n",
            "Are you a beginner in the field of data science and looking to dive into the world of deep learning? Look no further than PyTorch. In this blog post, we will explore what PyTorch is, why it is a popular choice for data scientists, and how you can get started with it.\n",
            "\n",
            "Learning Objectives:\n",
            "By the end of this blog post, you will have a basic understanding of PyTorch and how it can be used in data science projects.\n",
            "\n",
            "Table of Contents:\n",
            "1. Introduction\n",
            "2. What is PyTorch?\n",
            "3. When to Use PyTorch\n",
            "4. Conclusion\n",
            "\n",
            "What is PyTorch?\n",
            "PyTorch is an open-source machine learning library developed by Facebook's AI Research lab. It provides a flexible and dynamic computational graph which makes it easier to build and train neural networks. PyTorch is known for its ease of use and is preferred by many data scientists for its intuitive interface and flexibility.\n",
            "\n",
            "When to Use PyTorch:\n",
            "PyTorch is commonly used in deep learning projects, such as image classification, natural language processing, and computer vision. It is well suited for prototyping and research projects due to its dynamic computation capabilities and easy debugging features. If you are looking to build and train neural networks with ease, PyTorch is the tool for you.\n",
            "\n",
            "Conclusion:\n",
            "In conclusion, PyTorch is a powerful tool for data scientists, especially for those who are new to deep learning. Its flexibility and ease of use make it an ideal choice for building and training neural networks. If you are just starting out in data science and want to explore the world of deep learning, give PyTorch a try and see the amazing results you can achieve. Happy coding!\n"
          ]
        }
      ]
    },
    {
      "cell_type": "code",
      "source": [
        "# prompt experiment with function - simplify and give multi-step directions - add information related to SEO search\n",
        "prompt = '''Include 10 FAQs about PyTorch related to the previous blog post'''\n",
        "\n",
        "\n",
        "\n",
        "print(get_response(prompt))"
      ],
      "metadata": {
        "colab": {
          "base_uri": "https://localhost:8080/"
        },
        "id": "NP7cWsNyGEPi",
        "outputId": "938f1794-ade4-400c-bf3b-ec7864f08358"
      },
      "execution_count": 21,
      "outputs": [
        {
          "output_type": "stream",
          "name": "stdout",
          "text": [
            "1. What is PyTorch and why should I use it for deep learning projects?\n",
            "2. How can PyTorch help me build and train neural networks more efficiently?\n",
            "3. What are some key features of PyTorch that set it apart from other deep learning frameworks?\n",
            "4. Can PyTorch be used for both research and production environments?\n",
            "5. How easy is it to migrate existing projects to PyTorch?\n",
            "6. What resources are available for learning and mastering PyTorch?\n",
            "7. Are there any limitations or drawbacks to using PyTorch?\n",
            "8. How does PyTorch compare to TensorFlow in terms of performance and usability?\n",
            "9. Can PyTorch be used for natural language processing and computer vision tasks?\n",
            "10. Are there any best practices or tips for optimizing PyTorch code for speed and efficiency?\n"
          ]
        }
      ]
    },
    {
      "cell_type": "markdown",
      "source": [
        "summary:\n",
        "* We can see that each prompt with message and response is a unique API call to openai with a unique response.\n",
        "* Therefore we need to make sure our prompts are structured appropriately so we don't have to make multiple API calls.\n",
        "* We will go over that next."
      ],
      "metadata": {
        "id": "_N_EKdMvGgvG"
      }
    },
    {
      "cell_type": "markdown",
      "source": [
        "# Enabling conversations with the ChatGPT API"
      ],
      "metadata": {
        "id": "mjCAPiqDHDww"
      }
    },
    {
      "cell_type": "code",
      "source": [
        "# prompt experiment with function - simplify and give multi-step directions - add information related to SEO search\n",
        "first_prompt = '''Write an SEO search engine blog post about PyTorch for someone who is beginner level in Data Science.\n",
        "            It should include a title,\n",
        "            introduction,\n",
        "            learning objectives,\n",
        "            table of contents,\n",
        "            a basic introduction to what is pytorch and when we should use it,\n",
        "            a simple conclusion.\n",
        "            Limit the blog post to no more than 500 words.'''\n"
      ],
      "metadata": {
        "id": "SD6_IHuzGckD"
      },
      "execution_count": 22,
      "outputs": []
    },
    {
      "cell_type": "code",
      "source": [
        "# give model the first prompt output for context\n",
        "first_prompt_output = '''Title: A Beginner's Guide to PyTorch for Data Science\n",
        "\n",
        "Introduction:\n",
        "Are you a beginner in the field of data science and looking to dive into the world of deep learning? Look no further than PyTorch. In this blog post, we will explore what PyTorch is, why it is a popular choice for data scientists, and how you can get started with it.\n",
        "\n",
        "Learning Objectives:\n",
        "By the end of this blog post, you will have a basic understanding of PyTorch and how it can be used in data science projects.\n",
        "\n",
        "Table of Contents:\n",
        "1. Introduction\n",
        "2. What is PyTorch?\n",
        "3. When to Use PyTorch\n",
        "4. Conclusion\n",
        "\n",
        "What is PyTorch?\n",
        "PyTorch is an open-source machine learning library developed by Facebook's AI Research lab. It provides a flexible and dynamic computational graph which makes it easier to build and train neural networks. PyTorch is known for its ease of use and is preferred by many data scientists for its intuitive interface and flexibility.\n",
        "\n",
        "When to Use PyTorch:\n",
        "PyTorch is commonly used in deep learning projects, such as image classification, natural language processing, and computer vision. It is well suited for prototyping and research projects due to its dynamic computation capabilities and easy debugging features. If you are looking to build and train neural networks with ease, PyTorch is the tool for you.\n",
        "\n",
        "Conclusion:\n",
        "In conclusion, PyTorch is a powerful tool for data scientists, especially for those who are new to deep learning. Its flexibility and ease of use make it an ideal choice for building and training neural networks. If you are just starting out in data science and want to explore the world of deep learning, give PyTorch a try and see the amazing results you can achieve. Happy coding!'''"
      ],
      "metadata": {
        "id": "_0bM9qtwHXWh"
      },
      "execution_count": 23,
      "outputs": []
    },
    {
      "cell_type": "code",
      "source": [
        "# add second prompt from above\n",
        "second_prompt = \"Include 10 FAQs for the previous blog post abot pytorch along with answers.\""
      ],
      "metadata": {
        "id": "_2khcv7zHqJi"
      },
      "execution_count": 28,
      "outputs": []
    },
    {
      "cell_type": "code",
      "source": [
        "# instantiate messages with each role and content for API call\n",
        "messages = [\n",
        "    {'role':'user','content':first_prompt},\n",
        "    {'role':'assistant','content':first_prompt_output},\n",
        "    {'role':'user','content':second_prompt}\n",
        "\n",
        "    ]"
      ],
      "metadata": {
        "id": "Qk_0hUFBHzY9"
      },
      "execution_count": 29,
      "outputs": []
    },
    {
      "cell_type": "code",
      "source": [
        "# instatiate response from API\n",
        "response = openai.ChatCompletion.create(\n",
        "    model='gpt-3.5-turbo',\n",
        "    messages=messages\n",
        ")\n",
        "\n",
        "# return output from API call\n",
        "second_prompt_output = response.choices[0].message[\"content\"]\n",
        "print(second_prompt_output)"
      ],
      "metadata": {
        "colab": {
          "base_uri": "https://localhost:8080/"
        },
        "id": "H_ZaO-kJIPlD",
        "outputId": "fd400672-a982-4d88-e4df-75254e795adf"
      },
      "execution_count": 30,
      "outputs": [
        {
          "output_type": "stream",
          "name": "stdout",
          "text": [
            "Frequently Asked Questions about PyTorch:\n",
            "\n",
            "1. What is PyTorch used for?\n",
            "Answer: PyTorch is commonly used for deep learning projects, such as image classification, natural language processing, and computer vision.\n",
            "\n",
            "2. Is PyTorch difficult to learn for beginners in data science?\n",
            "Answer: PyTorch is known for its ease of use and intuitive interface, making it a great choice for beginners in data science.\n",
            "\n",
            "3. Can PyTorch be used for both research and production projects?\n",
            "Answer: Yes, PyTorch is suitable for prototyping and research projects as well as production-level projects.\n",
            "\n",
            "4. What are the advantages of using PyTorch over other deep learning frameworks?\n",
            "Answer: PyTorch's dynamic computation graph and easy debugging features make it stand out from other frameworks.\n",
            "\n",
            "5. Is PyTorch open-source?\n",
            "Answer: Yes, PyTorch is an open-source machine learning library developed by Facebook's AI Research lab.\n",
            "\n",
            "6. Can PyTorch be used for both structured and unstructured data?\n",
            "Answer: Yes, PyTorch can be used for both structured data (such as tabular data) and unstructured data (such as images and text).\n",
            "\n",
            "7. How can I install PyTorch on my machine?\n",
            "Answer: PyTorch can be easily installed using pip or conda. Visit the official PyTorch website for installation instructions.\n",
            "\n",
            "8. Is PyTorch suitable for real-time applications?\n",
            "Answer: PyTorch can be optimized for real-time applications by utilizing GPU acceleration and other performance tuning techniques.\n",
            "\n",
            "9. Are there any online resources for learning PyTorch?\n",
            "Answer: Yes, there are plenty of online tutorials, courses, and documentation available for learning PyTorch for beginners.\n",
            "\n",
            "10. Can PyTorch be used for reinforcement learning projects?\n",
            "Answer: Yes, PyTorch has built-in support for reinforcement learning algorithms, making it suitable for such projects.\n"
          ]
        }
      ]
    },
    {
      "cell_type": "markdown",
      "source": [
        "### Exercise - let's now add another set of role with content to see what happens when we add iterative pieces of context to the GPT model"
      ],
      "metadata": {
        "id": "icyTWVyZJLfS"
      }
    },
    {
      "cell_type": "code",
      "source": [
        "# third prompt\n",
        "third_prompt = '''Now include in the blog post about pytorch for beginner data scientists, a 10 step guide to learn pytorch from scratch for deep learning.\n",
        "                  but limit this to 500 words.\n",
        "\n",
        "'''"
      ],
      "metadata": {
        "id": "wSBB9g62IvP6"
      },
      "execution_count": 31,
      "outputs": []
    },
    {
      "cell_type": "code",
      "source": [
        "# instantiate messages again\n",
        "messages = [\n",
        "    {'role':'user','content':first_prompt},\n",
        "    {'role':'assistant','content':first_prompt_output},\n",
        "    {'role':'user','content':second_prompt},\n",
        "    {'role':'assistant','content':second_prompt_output},\n",
        "    {'role':'user','content':third_prompt}\n",
        "]"
      ],
      "metadata": {
        "id": "JVxGqzzHJtCI"
      },
      "execution_count": 32,
      "outputs": []
    },
    {
      "cell_type": "code",
      "source": [
        "# now return output using message roles and content above\n",
        "# instatiate response from API\n",
        "response = openai.ChatCompletion.create(\n",
        "    model='gpt-3.5-turbo',\n",
        "    messages=messages\n",
        ")\n",
        "\n",
        "# return output from API call\n",
        "third_prompt_output = response.choices[0].message[\"content\"]\n",
        "print(third_prompt_output)"
      ],
      "metadata": {
        "colab": {
          "base_uri": "https://localhost:8080/"
        },
        "id": "yrQgcxdqKPth",
        "outputId": "a806e44a-becc-4cad-98d8-66f2243380e7"
      },
      "execution_count": 33,
      "outputs": [
        {
          "output_type": "stream",
          "name": "stdout",
          "text": [
            "Title: A Beginner's Guide to Learning PyTorch for Deep Learning\n",
            "\n",
            "Introduction:\n",
            "If you're a beginner in the field of data science and eager to delve into deep learning with PyTorch, this 10-step guide will help you get started on your learning journey. PyTorch's intuitive interface and flexibility make it a great choice for beginners looking to build and train neural networks.\n",
            "\n",
            "Learning Objectives:\n",
            "By the end of this guide, you will have a basic understanding of how to learn PyTorch from scratch for deep learning projects.\n",
            "\n",
            "10-Step Guide to Learn PyTorch for Deep Learning:\n",
            "\n",
            "1. Understand the Basics: Familiarize yourself with the basics of deep learning, neural networks, and the role PyTorch plays in building and training these networks.\n",
            "\n",
            "2. Installation: Install PyTorch on your machine using pip or conda. Follow the official PyTorch website for detailed installation instructions.\n",
            "\n",
            "3. Tensors: Learn about PyTorch's core data structure, tensors, and how they are used for data storage and manipulation in deep learning.\n",
            "\n",
            "4. Building Neural Networks: Start with simple neural network architectures, such as feedforward networks, and use PyTorch to implement and train these networks.\n",
            "\n",
            "5. Loss Functions and Optimization: Understand the importance of loss functions in deep learning and how optimization algorithms, such as gradient descent, are used to train neural networks.\n",
            "\n",
            "6. Training and Testing: Learn how to train neural networks on training data and evaluate their performance on testing data using PyTorch.\n",
            "\n",
            "7. Model Evaluation: Explore different evaluation metrics for measuring the performance of your neural network models, such as accuracy, precision, recall, and F1 score.\n",
            "\n",
            "8. Transfer Learning: Dive into the concept of transfer learning and how pre-trained models can be fine-tuned for specific tasks using PyTorch.\n",
            "\n",
            "9. Experimentation: Experiment with different hyperparameters, network architectures, and training strategies to optimize the performance of your neural networks.\n",
            "\n",
            "10. Practice and Projects: Apply your learnings by working on hands-on projects, such as image classification or text generation, to gain practical experience with PyTorch.\n",
            "\n",
            "Conclusion:\n",
            "Learning PyTorch from scratch for deep learning may seem daunting at first, but with dedication and practice, you can build a strong foundation in this powerful tool. By following this 10-step guide and engaging in hands-on projects, you'll be well on your way to mastering PyTorch and unlocking the potential of deep learning in your data science journey. Happy coding!\n"
          ]
        }
      ]
    },
    {
      "cell_type": "markdown",
      "source": [
        "summary:\n",
        "* We can see above that if we were working on a very large application, if we had to keep adding indivividual multi-step prompts this could get very tedious and time consuming and also cost a lot of money with each API call.\n",
        "* So, we need a more efficient way to do this."
      ],
      "metadata": {
        "id": "xPbrPhTgKgzp"
      }
    },
    {
      "cell_type": "markdown",
      "source": [
        "# Let's define a Chat Function"
      ],
      "metadata": {
        "id": "YXGaG7pqKxiU"
      }
    },
    {
      "cell_type": "code",
      "source": [
        "# define a list to collect the history\n",
        "history = []\n",
        "\n",
        "# define a chat function\n",
        "def chat(user_prompt, is_clear=False):\n",
        "\n",
        "  global history #history is a global variable\n",
        "  if is_clear:\n",
        "    history=[]\n",
        "\n",
        "    # messages with role and content, append message output to history\n",
        "  input_message={'role':'user','content':user_prompt}\n",
        "  history.append(input_message)\n",
        "\n",
        "    # get response from openai\n",
        "  response = openai.ChatCompletion.create(\n",
        "        model='gpt-3.5-turbo',\n",
        "        messages=history\n",
        "    )\n",
        "\n",
        "  response=response.choices[0].message[\"content\"]\n",
        "  response_message = {'role':'assistant', 'content':response}\n",
        "  history.append(response_message)\n",
        "  return response"
      ],
      "metadata": {
        "id": "O-3-NAJcKbVl"
      },
      "execution_count": 37,
      "outputs": []
    },
    {
      "cell_type": "markdown",
      "source": [
        "### Let's test out this function"
      ],
      "metadata": {
        "id": "pMjpCOkYMO3u"
      }
    },
    {
      "cell_type": "code",
      "source": [
        "user_prompt = \"Write a message welcoming people to Vermont for winter skiing at Sugarbush.\"\n",
        "print(chat(user_prompt))"
      ],
      "metadata": {
        "colab": {
          "base_uri": "https://localhost:8080/"
        },
        "id": "xqbIF0v0MMR_",
        "outputId": "75eeecf0-4ee8-4d4c-dccb-a4ae3ccc5201"
      },
      "execution_count": 38,
      "outputs": [
        {
          "output_type": "stream",
          "name": "stdout",
          "text": [
            "Welcome to Vermont's beautiful Sugarbush resort, where winter skiing awaits you! We are thrilled to have you join us for a thrilling and unforgettable winter getaway on our pristine slopes. Whether you are a beginner or an experienced skier, Sugarbush offers a wide variety of trails and terrain for all levels of expertise. \n",
            "\n",
            "Prepare to be captivated by the stunning scenery, crisp mountain air, and the exhilarating feeling of carving down the slopes with snow-capped peaks all around you. After a day of skiing, be sure to cozy up by the fire in our lodge, enjoy a delicious meal at one of our on-mountain restaurants, and relax in our luxurious accommodations.\n",
            "\n",
            "We are committed to providing you with an exceptional skiing experience, and our friendly staff is here to make your stay as memorable as possible. So grab your skis, bundle up, and get ready for an unforgettable winter adventure at Sugarbush. Welcome to Vermont – let the skiing begin!\n"
          ]
        }
      ]
    },
    {
      "cell_type": "code",
      "source": [
        "# add more context and instructions to prompt\n",
        "user_prompt = \"Add a story to the welcome message about next steps a person can take to book a stay with lessons and lift tickets at Sugarbush resort in Vermont.\"\n",
        "\n",
        "#use in function\n",
        "print(chat(user_prompt))"
      ],
      "metadata": {
        "colab": {
          "base_uri": "https://localhost:8080/"
        },
        "id": "0-WDhsMvMpJa",
        "outputId": "4ea668f8-075d-4990-8adc-9e369c891aae"
      },
      "execution_count": 39,
      "outputs": [
        {
          "output_type": "stream",
          "name": "stdout",
          "text": [
            "As you embark on your winter skiing adventure at Sugarbush, we want to make sure you have all the information you need to plan your stay with us. \n",
            "\n",
            "To book a stay at our resort, including lessons and lift tickets, simply visit our website at sugarbush.com. There, you can explore our various lodging options, from cozy slopeside cabins to luxurious mountain lodges. Our reservation team is ready to assist you in finding the perfect accommodations to suit your needs.\n",
            "\n",
            "In addition to lodging, you can also purchase ski lessons and lift tickets through our website. Whether you're looking to improve your skills with a private lesson or explore the mountain on your own, we have options for skiers of all levels.\n",
            "\n",
            "Once you have booked your stay and activities, you can start counting down the days until you arrive at Sugarbush and experience the magic of winter skiing in Vermont. We can't wait to welcome you to our resort and help you create lasting memories on the slopes. See you soon!\n"
          ]
        }
      ]
    },
    {
      "cell_type": "code",
      "source": [
        "# amend the prompt\n",
        "user_prompt = '''Add a story to the welcome message about next steps a person can take to book a stay with lessons and\n",
        "                lift tickets at Sugarbush resort in Vermont.\n",
        "                Give a bulleted list of steps the user can take.'''\n",
        "\n",
        "# give output\n",
        "print(chat(user_prompt))\n"
      ],
      "metadata": {
        "colab": {
          "base_uri": "https://localhost:8080/"
        },
        "id": "quoku395NwBk",
        "outputId": "c8497194-b7e8-4875-c75d-012ecc41afd4"
      },
      "execution_count": 41,
      "outputs": [
        {
          "output_type": "stream",
          "name": "stdout",
          "text": [
            "As you prepare for an exciting winter skiing getaway at Sugarbush resort in Vermont, here are some simple steps you can take to book your stay with lessons and lift tickets:\n",
            "\n",
            "Visit the Sugarbush website at sugarbush.com\n",
            "Explore the lodging options available at the resort, from slopeside cabins to mountain lodges\n",
            "Contact our reservation team to assist you in finding the perfect accommodations for your stay\n",
            "Purchase ski lessons and lift tickets through the website to ensure you have everything you need for your skiing experience\n",
            "Count down the days until your arrival at Sugarbush and get ready for a fantastic adventure on the slopes\n",
            "\n",
            "We look forward to welcoming you to our resort and helping you make the most of your winter skiing experience in beautiful Vermont. Safe travels and see you soon at Sugarbush!\n"
          ]
        }
      ]
    },
    {
      "cell_type": "code",
      "source": [
        "# lets loop the history\n",
        "for message in history:\n",
        "  print(message)"
      ],
      "metadata": {
        "colab": {
          "base_uri": "https://localhost:8080/"
        },
        "id": "w4pcMLkmOh9L",
        "outputId": "e12eab48-550d-4113-ad4f-3e6191a9aa4f"
      },
      "execution_count": 42,
      "outputs": [
        {
          "output_type": "stream",
          "name": "stdout",
          "text": [
            "{'role': 'user', 'content': 'Write a message welcoming people to Vermont for winter skiing at Sugarbush.'}\n",
            "{'role': 'assistant', 'content': \"Welcome to Vermont's beautiful Sugarbush resort, where winter skiing awaits you! We are thrilled to have you join us for a thrilling and unforgettable winter getaway on our pristine slopes. Whether you are a beginner or an experienced skier, Sugarbush offers a wide variety of trails and terrain for all levels of expertise. \\n\\nPrepare to be captivated by the stunning scenery, crisp mountain air, and the exhilarating feeling of carving down the slopes with snow-capped peaks all around you. After a day of skiing, be sure to cozy up by the fire in our lodge, enjoy a delicious meal at one of our on-mountain restaurants, and relax in our luxurious accommodations.\\n\\nWe are committed to providing you with an exceptional skiing experience, and our friendly staff is here to make your stay as memorable as possible. So grab your skis, bundle up, and get ready for an unforgettable winter adventure at Sugarbush. Welcome to Vermont – let the skiing begin!\"}\n",
            "{'role': 'user', 'content': 'Add a story to the welcome message about next steps a person can take to book a stay with lessons and lift tickets at Sugarbush resort in Vermont.'}\n",
            "{'role': 'assistant', 'content': \"As you embark on your winter skiing adventure at Sugarbush, we want to make sure you have all the information you need to plan your stay with us. \\n\\nTo book a stay at our resort, including lessons and lift tickets, simply visit our website at sugarbush.com. There, you can explore our various lodging options, from cozy slopeside cabins to luxurious mountain lodges. Our reservation team is ready to assist you in finding the perfect accommodations to suit your needs.\\n\\nIn addition to lodging, you can also purchase ski lessons and lift tickets through our website. Whether you're looking to improve your skills with a private lesson or explore the mountain on your own, we have options for skiers of all levels.\\n\\nOnce you have booked your stay and activities, you can start counting down the days until you arrive at Sugarbush and experience the magic of winter skiing in Vermont. We can't wait to welcome you to our resort and help you create lasting memories on the slopes. See you soon!\"}\n",
            "{'role': 'user', 'content': 'Add a story to the welcome message about next steps a person can take to book a stay with lessons and \\n                lift tickets at Sugarbush resort in Vermont.\\n                Give a bulleted list of steps the user can take.'}\n",
            "{'role': 'assistant', 'content': 'As you prepare for an exciting winter skiing getaway at Sugarbush resort in Vermont, here are some simple steps you can take to book your stay with lessons and lift tickets:\\n\\nVisit the Sugarbush website at sugarbush.com\\nExplore the lodging options available at the resort, from slopeside cabins to mountain lodges\\nContact our reservation team to assist you in finding the perfect accommodations for your stay\\nPurchase ski lessons and lift tickets through the website to ensure you have everything you need for your skiing experience\\nCount down the days until your arrival at Sugarbush and get ready for a fantastic adventure on the slopes\\n\\nWe look forward to welcoming you to our resort and helping you make the most of your winter skiing experience in beautiful Vermont. Safe travels and see you soon at Sugarbush!'}\n"
          ]
        }
      ]
    },
    {
      "cell_type": "code",
      "source": [
        "# now lets create a new prompt and clear the history using the is_clear bool set to True from our function\n",
        "user_prompt = \"Write a welcome message in french welcoming skiers to Sugarbush resort in Vermont.\"\n",
        "\n",
        "print(chat(user_prompt,True))"
      ],
      "metadata": {
        "colab": {
          "base_uri": "https://localhost:8080/"
        },
        "id": "na9gusNOP2gP",
        "outputId": "a12e9f09-f081-4de9-f4d0-e4d917cf89cf"
      },
      "execution_count": 43,
      "outputs": [
        {
          "output_type": "stream",
          "name": "stdout",
          "text": [
            "Bienvenue à Sugarbush Resort, paradis de ski de Vermont! Nous sommes ravis de vous accueillir sur nos pistes enneigées. Que vous soyez un débutant ou un expert, nos pistes variées vous offrent une expérience inoubliable. Profitez de la beauté naturelle de notre station, de notre hospitalité chaleureuse et de notre cuisine délicieuse. Bon ski!\n"
          ]
        }
      ]
    },
    {
      "cell_type": "code",
      "source": [
        "for message in history:\n",
        "  print(message)"
      ],
      "metadata": {
        "colab": {
          "base_uri": "https://localhost:8080/"
        },
        "id": "wYGd3ALsQiGu",
        "outputId": "00ec9afd-a21d-4252-a8ea-b0b011163bcb"
      },
      "execution_count": 44,
      "outputs": [
        {
          "output_type": "stream",
          "name": "stdout",
          "text": [
            "{'role': 'user', 'content': 'Write a welcome message in french welcoming skiers to Sugarbush resort in Vermont.'}\n",
            "{'role': 'assistant', 'content': 'Bienvenue à Sugarbush Resort, paradis de ski de Vermont! Nous sommes ravis de vous accueillir sur nos pistes enneigées. Que vous soyez un débutant ou un expert, nos pistes variées vous offrent une expérience inoubliable. Profitez de la beauté naturelle de notre station, de notre hospitalité chaleureuse et de notre cuisine délicieuse. Bon ski!'}\n"
          ]
        }
      ]
    },
    {
      "cell_type": "code",
      "source": [],
      "metadata": {
        "id": "BpdydS0hQpTn"
      },
      "execution_count": null,
      "outputs": []
    }
  ]
}