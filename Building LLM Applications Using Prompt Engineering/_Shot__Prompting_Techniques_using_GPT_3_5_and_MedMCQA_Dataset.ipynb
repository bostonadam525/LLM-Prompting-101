{
  "nbformat": 4,
  "nbformat_minor": 0,
  "metadata": {
    "colab": {
      "provenance": []
    },
    "kernelspec": {
      "name": "python3",
      "display_name": "Python 3"
    },
    "language_info": {
      "name": "python"
    }
  },
  "cells": [
    {
      "cell_type": "markdown",
      "source": [
        "# \"Shot\" Prompting Techniques using GPT-3.5 and MedMCQA Dataset\n",
        "* Notebook by Adam Lang\n",
        "* Date: 3/4/2024\n",
        "* In this notebook we will explore various prompting techiques using an open source dataset from huggingface and the OpenAI API.\n",
        "\n",
        "# Prompt Engineering Techniques\n",
        "* Few shot\n",
        "* One shot\n",
        "* Zero shot\n",
        "\n",
        "\n",
        "\n"
      ],
      "metadata": {
        "id": "JqfTaJsxIrGJ"
      }
    },
    {
      "cell_type": "markdown",
      "source": [
        "### Few Shot Prompting\n",
        "* Model is given a few examples along with a description task.\n",
        "* Steps to do this:\n",
        "    1. Describe task you want the model to complete.\n",
        "    2. Provide ~3 examples of the input and output.\n",
        "    3. Prompt the model."
      ],
      "metadata": {
        "id": "PJnEhrE7JHlT"
      }
    },
    {
      "cell_type": "code",
      "execution_count": 1,
      "metadata": {
        "colab": {
          "base_uri": "https://localhost:8080/"
        },
        "id": "zSiry4KeIeqH",
        "outputId": "39453534-1872-4a48-a9b4-8e80c50e08a0"
      },
      "outputs": [
        {
          "output_type": "stream",
          "name": "stdout",
          "text": [
            "Collecting openai==0.28\n",
            "  Downloading openai-0.28.0-py3-none-any.whl (76 kB)\n",
            "\u001b[?25l     \u001b[90m━━━━━━━━━━━━━━━━━━━━━━━━━━━━━━━━━━━━━━━━\u001b[0m \u001b[32m0.0/76.5 kB\u001b[0m \u001b[31m?\u001b[0m eta \u001b[36m-:--:--\u001b[0m\r\u001b[2K     \u001b[90m━━━━━━━━━━━━━━━━━━━━━━━━━━━━━━━━━━━━━━━━\u001b[0m \u001b[32m76.5/76.5 kB\u001b[0m \u001b[31m2.3 MB/s\u001b[0m eta \u001b[36m0:00:00\u001b[0m\n",
            "\u001b[?25hRequirement already satisfied: requests>=2.20 in /usr/local/lib/python3.10/dist-packages (from openai==0.28) (2.31.0)\n",
            "Requirement already satisfied: tqdm in /usr/local/lib/python3.10/dist-packages (from openai==0.28) (4.66.2)\n",
            "Requirement already satisfied: aiohttp in /usr/local/lib/python3.10/dist-packages (from openai==0.28) (3.9.3)\n",
            "Requirement already satisfied: charset-normalizer<4,>=2 in /usr/local/lib/python3.10/dist-packages (from requests>=2.20->openai==0.28) (3.3.2)\n",
            "Requirement already satisfied: idna<4,>=2.5 in /usr/local/lib/python3.10/dist-packages (from requests>=2.20->openai==0.28) (3.6)\n",
            "Requirement already satisfied: urllib3<3,>=1.21.1 in /usr/local/lib/python3.10/dist-packages (from requests>=2.20->openai==0.28) (2.0.7)\n",
            "Requirement already satisfied: certifi>=2017.4.17 in /usr/local/lib/python3.10/dist-packages (from requests>=2.20->openai==0.28) (2024.2.2)\n",
            "Requirement already satisfied: aiosignal>=1.1.2 in /usr/local/lib/python3.10/dist-packages (from aiohttp->openai==0.28) (1.3.1)\n",
            "Requirement already satisfied: attrs>=17.3.0 in /usr/local/lib/python3.10/dist-packages (from aiohttp->openai==0.28) (23.2.0)\n",
            "Requirement already satisfied: frozenlist>=1.1.1 in /usr/local/lib/python3.10/dist-packages (from aiohttp->openai==0.28) (1.4.1)\n",
            "Requirement already satisfied: multidict<7.0,>=4.5 in /usr/local/lib/python3.10/dist-packages (from aiohttp->openai==0.28) (6.0.5)\n",
            "Requirement already satisfied: yarl<2.0,>=1.0 in /usr/local/lib/python3.10/dist-packages (from aiohttp->openai==0.28) (1.9.4)\n",
            "Requirement already satisfied: async-timeout<5.0,>=4.0 in /usr/local/lib/python3.10/dist-packages (from aiohttp->openai==0.28) (4.0.3)\n",
            "Installing collected packages: openai\n",
            "Successfully installed openai-0.28.0\n"
          ]
        }
      ],
      "source": [
        "# install openai\n",
        "!pip install openai==0.28"
      ]
    },
    {
      "cell_type": "code",
      "source": [
        "# set up openAI key\n",
        "import openai\n",
        "\n",
        "openai.api_key = \"<YOUR_OPENAI_API_KEY>\""
      ],
      "metadata": {
        "id": "zHiMvqWaJZHn"
      },
      "execution_count": 2,
      "outputs": []
    },
    {
      "cell_type": "code",
      "source": [
        "# let's define a function to get response from ChatCompletions API\n",
        "def get_response(messages, model='gpt-3.5-turbo'):\n",
        "  response = openai.ChatCompletion.create(\n",
        "      model=model,\n",
        "      messages=messages,\n",
        "      #temperature=0.7,\n",
        "      #top_p=0.7\n",
        "  )\n",
        "  return response.choices[0].message[\"content\"]"
      ],
      "metadata": {
        "id": "MV_e5d3aJk9g"
      },
      "execution_count": 113,
      "outputs": []
    },
    {
      "cell_type": "markdown",
      "source": [
        "# MedMCQA Case Study\n",
        "\n",
        "* This is an open-source dataset from the huggingface hub.\n",
        "* MedMCQA is a large-scale, Multiple-Choice Question Answering (MCQA) dataset designed to address real-world medical entrance exam questions.\n",
        "* MedMCQA has more than 194k high-quality AIIMS & NEET PG entrance exam MCQs covering 2.4k healthcare topics and 21 medical subjects are collected with an average token length of 12.77 and high topical diversity.\n",
        "* Dataset open-source link: https://huggingface.co/datasets/openlifescienceai/medmcqa?row=12"
      ],
      "metadata": {
        "id": "_u66DgWJJ7_E"
      }
    },
    {
      "cell_type": "code",
      "source": [
        "first_question = '''\n",
        "Following endaerectomy on the right common carotid, a patient is found to be blind in the right eye.\n",
        "It is appears that a small thrombus embolized during surgery and lodged in the aery supplying the optic nerve.\n",
        "Which artery would be blocked?\n",
        "(A) Central artery of the retina\n",
        "(B) Infraorbital artery\n",
        "(C) Lacrimal artery\n",
        "(D) Nasociliary artery\n",
        "\n",
        "'''"
      ],
      "metadata": {
        "id": "5gRveg3EJ2yD"
      },
      "execution_count": 114,
      "outputs": []
    },
    {
      "cell_type": "code",
      "source": [
        "first_question_answer = 'A'"
      ],
      "metadata": {
        "id": "f7KENTBcLk5I"
      },
      "execution_count": 115,
      "outputs": []
    },
    {
      "cell_type": "code",
      "source": [
        "second_question = '''\n",
        "All of the following are surgical options for morbid obesity except -\n",
        "(A) Adjustable gastric banding\n",
        "(B) Biliopancreatic diversion\n",
        "(C) Duodenal Switch\n",
        "(D) Roux en Y Duodenal By pass\n",
        "\n",
        "'''"
      ],
      "metadata": {
        "id": "32eXk4X4Lm_I"
      },
      "execution_count": 116,
      "outputs": []
    },
    {
      "cell_type": "code",
      "source": [
        "second_question_answer = 'D'"
      ],
      "metadata": {
        "id": "OD6WYBXpL7mj"
      },
      "execution_count": 117,
      "outputs": []
    },
    {
      "cell_type": "code",
      "source": [
        "third_question = '''\n",
        "Which vitamin is supplied from only animal source:\n",
        "(A) Vitamin C\n",
        "(B) Vitamin B7\n",
        "(C) Vitamin B12\n",
        "(D) Vitamin D\n",
        "\n",
        "'''"
      ],
      "metadata": {
        "id": "lVgMZqzvL_L1"
      },
      "execution_count": 118,
      "outputs": []
    },
    {
      "cell_type": "code",
      "source": [
        "third_question_answer = 'C'"
      ],
      "metadata": {
        "id": "MAn7F4UAMT0l"
      },
      "execution_count": 119,
      "outputs": []
    },
    {
      "cell_type": "code",
      "source": [
        "fourth_question = '''\n",
        "The pharmakokinetic change occurring in geriatric patient is due to:\n",
        "(A) Gastric absorption\n",
        "(B) Liver metabolism\n",
        "(C) Renal clearance\n",
        "(D) Hypersensitivity\n",
        "\n",
        "\n",
        "'''"
      ],
      "metadata": {
        "id": "cYMCVz2SMXqr"
      },
      "execution_count": 120,
      "outputs": []
    },
    {
      "cell_type": "markdown",
      "source": [
        "### Define the OpenAI System Role"
      ],
      "metadata": {
        "id": "s4_S75_zM4Bm"
      }
    },
    {
      "cell_type": "code",
      "source": [
        "system_role = \"You are a helpful assistant that uses medical knowledge to answer multiple choice questions.\""
      ],
      "metadata": {
        "id": "zDXwLrj8M2hp"
      },
      "execution_count": 121,
      "outputs": []
    },
    {
      "cell_type": "markdown",
      "source": [
        "### Few Shot Prompting in action\n",
        "* We will give the system the question-answer examples from above and then leave the 4th question unanswered to prompt the model to answer"
      ],
      "metadata": {
        "id": "ktzRxzUxNLZZ"
      }
    },
    {
      "cell_type": "code",
      "source": [
        "user_prompt = f'''Question:{first_question}\n",
        "Answer:{first_question_answer}\n",
        "\n",
        "Question:{second_question}\n",
        "Answer:{second_question_answer}\n",
        "\n",
        "Question:{third_question}\n",
        "Answer:{third_question_answer}\n",
        "\n",
        "Question:{fourth_question}\n",
        "Answer:\n",
        "'''"
      ],
      "metadata": {
        "id": "b2wdL1kpNDIs"
      },
      "execution_count": 122,
      "outputs": []
    },
    {
      "cell_type": "code",
      "source": [
        "messages = [{'role':'system','content':system_role},\n",
        "            {'role':'user','content':user_prompt}\n",
        "            ]"
      ],
      "metadata": {
        "id": "ZH96Dd22NpGM"
      },
      "execution_count": 123,
      "outputs": []
    },
    {
      "cell_type": "code",
      "source": [
        "# obtain answer\n",
        "print(get_response(messages))"
      ],
      "metadata": {
        "colab": {
          "base_uri": "https://localhost:8080/"
        },
        "id": "bpx-PhzVN1VI",
        "outputId": "10bbc744-74d7-4df7-99cf-e721568f481f"
      },
      "execution_count": 124,
      "outputs": [
        {
          "output_type": "stream",
          "name": "stdout",
          "text": [
            "(B) Liver metabolism\n"
          ]
        }
      ]
    },
    {
      "cell_type": "markdown",
      "source": [
        "summary: this is correct according to the training data from the dataset."
      ],
      "metadata": {
        "id": "Iydym0l9PW4m"
      }
    },
    {
      "cell_type": "markdown",
      "source": [
        "### One Shot Prompting\n",
        "* Model sees just 1 example with task description.\n",
        "* Steps:\n",
        "  1. 1 Task description\n",
        "  2. 1 example\n",
        "  3. Prompt without completion."
      ],
      "metadata": {
        "id": "uP7EPGGNPnw2"
      }
    },
    {
      "cell_type": "markdown",
      "source": [
        "### One-Shot Prompting with the MedMCQA Dataset\n",
        "* We will use the fourth_question as our model input because it is an example of one shot prompting."
      ],
      "metadata": {
        "id": "4c45HfqtP3Wk"
      }
    },
    {
      "cell_type": "code",
      "source": [
        "user_prompt = f'''Question:{first_question}\n",
        "Answer:{first_question_answer}\n",
        "\n",
        "Question:{fourth_question}\n",
        "Answer:\n",
        "'''"
      ],
      "metadata": {
        "id": "YvzzkJwaN5fC"
      },
      "execution_count": 125,
      "outputs": []
    },
    {
      "cell_type": "code",
      "source": [
        "messages = [{'role':'system','content':system_role},\n",
        "            {'role':'user','content':user_prompt}\n",
        "            ]"
      ],
      "metadata": {
        "id": "mNqmFoJQQOoD"
      },
      "execution_count": 126,
      "outputs": []
    },
    {
      "cell_type": "code",
      "source": [
        "# obtain model response\n",
        "print(get_response(messages))"
      ],
      "metadata": {
        "colab": {
          "base_uri": "https://localhost:8080/"
        },
        "id": "3mi4E8CvQbBo",
        "outputId": "e1c56a8d-ef22-47f5-8e93-9f500ecc2657"
      },
      "execution_count": 127,
      "outputs": [
        {
          "output_type": "stream",
          "name": "stdout",
          "text": [
            "(B) Liver metabolism\n"
          ]
        }
      ]
    },
    {
      "cell_type": "markdown",
      "source": [
        "summary:\n",
        "* 1 shot prompting has its drawbacks as you can see the model answered (B) Liver Metabolism which is not correct.\n",
        "* Perhaps the 1 example we gave it was not sufficient enough for the model to perform well."
      ],
      "metadata": {
        "id": "RatCHVCVRISz"
      }
    },
    {
      "cell_type": "code",
      "source": [],
      "metadata": {
        "id": "ukcZUvwNQeSL"
      },
      "execution_count": 127,
      "outputs": []
    },
    {
      "cell_type": "markdown",
      "source": [
        "### Zero Shot Prompting\n",
        "* No examples given!\n",
        "* Steps:\n",
        "  1. Give a task description\n",
        "  2. Give a prompt\n",
        "\n",
        "* Let's see how this performs on the same dataset and the same question as above. Will it perform better than 1 shot prompting?"
      ],
      "metadata": {
        "id": "pMSD1_piRmVb"
      }
    },
    {
      "cell_type": "code",
      "source": [
        "user_prompt = f'''Question:{fourth_question}\n",
        "Answer:\n",
        "'''"
      ],
      "metadata": {
        "id": "Xc4O1NwVRxSi"
      },
      "execution_count": 128,
      "outputs": []
    },
    {
      "cell_type": "code",
      "source": [
        "messages=[{'role':'system','content':system_role},\n",
        "          {'role':'user','content':user_prompt}\n",
        "          ]"
      ],
      "metadata": {
        "id": "KjcWM89nSDJ9"
      },
      "execution_count": 129,
      "outputs": []
    },
    {
      "cell_type": "code",
      "source": [
        "# get model response\n",
        "print(get_response(messages))"
      ],
      "metadata": {
        "colab": {
          "base_uri": "https://localhost:8080/"
        },
        "id": "6Wxbu1U6SO3J",
        "outputId": "01adb5d7-0f5b-4f35-cdd2-2c94c6b667cf"
      },
      "execution_count": 130,
      "outputs": [
        {
          "output_type": "stream",
          "name": "stdout",
          "text": [
            "(C) Renal clearance\n",
            "\n",
            "Pharmacokinetic changes in geriatric patients often involve decreased renal clearance, leading to altered drug metabolism and potential accumulation of medications in the body.\n"
          ]
        }
      ]
    },
    {
      "cell_type": "markdown",
      "source": [
        "summary:\n",
        "* Wow! Zero-shot prompting performed better than 1 shot prompting and gave us the correct answer which is (C) Renal clearance."
      ],
      "metadata": {
        "id": "h6y-CNMfSTkA"
      }
    },
    {
      "cell_type": "markdown",
      "source": [
        "# Summary\n",
        "* The original paper found that Random few-shot prompting improved accuracy over Zero-shot prompting.\n",
        "* One-shot prompting was \"in-between\" the two.\n",
        "* Depending upon your use case, few-shot prompting should return better results overall from the LLM as it gives more context to the model.\n",
        "\n",
        "\n",
        "![image.png](data:image/png;base64,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)"
      ],
      "metadata": {
        "id": "1-K3bsHWS-AL"
      }
    },
    {
      "cell_type": "code",
      "source": [],
      "metadata": {
        "id": "oGkZ-qPtSSRH"
      },
      "execution_count": null,
      "outputs": []
    }
  ]
}